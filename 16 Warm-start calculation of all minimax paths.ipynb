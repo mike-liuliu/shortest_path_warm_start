{
 "cells": [
  {
   "cell_type": "code",
   "execution_count": null,
   "id": "e919a87e",
   "metadata": {},
   "outputs": [],
   "source": []
  },
  {
   "cell_type": "code",
   "execution_count": 1,
   "id": "c8f75cd9",
   "metadata": {},
   "outputs": [],
   "source": [
    "exec(open(\"./funcs/tool_funcs.py\").read())\n"
   ]
  },
  {
   "cell_type": "code",
   "execution_count": null,
   "id": "562c9604",
   "metadata": {},
   "outputs": [],
   "source": []
  },
  {
   "cell_type": "code",
   "execution_count": null,
   "id": "78d3581b",
   "metadata": {},
   "outputs": [],
   "source": []
  },
  {
   "cell_type": "code",
   "execution_count": 2,
   "id": "1e12bdac",
   "metadata": {},
   "outputs": [],
   "source": [
    "def dijkstra_show_path_minimax_path(adj_matrix, start, end):\n",
    " \n",
    "    n = len(adj_matrix)\n",
    "    distances = [float('inf')] * n\n",
    "    previous_nodes = [-1] * n\n",
    "    distances[start] = 0\n",
    "    priority_queue = [(0, start)]  # (distance, node)\n",
    "\n",
    "    while priority_queue:\n",
    "        current_distance, current_node = heapq.heappop(priority_queue)\n",
    "\n",
    "        # Stop if we reached the destination node\n",
    "        if current_node == end:\n",
    "            break\n",
    "\n",
    "        # If the distance is no longer optimal, skip\n",
    "        if current_distance > distances[current_node]:\n",
    "            continue\n",
    "\n",
    "        # Explore neighbors\n",
    "        for neighbor, weight in enumerate(adj_matrix[current_node]):\n",
    "            if weight > 0:  # Only consider edges with weight > 0\n",
    "                distance = max(current_distance, weight)\n",
    "\n",
    "                # Update distance if it's better\n",
    "                if distance < distances[neighbor]:\n",
    "                    distances[neighbor] = distance\n",
    "                    previous_nodes[neighbor] = current_node\n",
    "                    heapq.heappush(priority_queue, (distance, neighbor))\n",
    "\n",
    "    # Reconstruct the path from end to start\n",
    "    path = []\n",
    "    current = end\n",
    "    while current != -1:\n",
    "        path.append(current)\n",
    "        current = previous_nodes[current]\n",
    "    path.reverse()\n",
    "\n",
    "    # If the start node isn't reachable, return an empty path\n",
    "    return path if path[0] == start else []"
   ]
  },
  {
   "cell_type": "code",
   "execution_count": null,
   "id": "8c3c2a38",
   "metadata": {},
   "outputs": [],
   "source": []
  },
  {
   "cell_type": "code",
   "execution_count": 3,
   "id": "a96d92af",
   "metadata": {},
   "outputs": [],
   "source": [
    "def translate_path(path, candidate_node_list):\n",
    "    new_path = [candidate_node_list[i] for i in path]\n",
    "    return new_path\n",
    "\n",
    "\n"
   ]
  },
  {
   "cell_type": "code",
   "execution_count": null,
   "id": "ad6bbacb",
   "metadata": {},
   "outputs": [],
   "source": []
  },
  {
   "cell_type": "code",
   "execution_count": 4,
   "id": "ff1876be",
   "metadata": {},
   "outputs": [],
   "source": [
    "def output_small_matrix(X_distance_matrix, candidate_node_list):\n",
    "    small_matrix = np.zeros((len(candidate_node_list), len(candidate_node_list)))\n",
    "    for i, ii in enumerate(candidate_node_list):\n",
    "        for j, jj in enumerate(candidate_node_list):\n",
    "            small_matrix[i,j] = X_distance_matrix[ii, jj]\n",
    "    return small_matrix\n",
    "\n",
    "\n"
   ]
  },
  {
   "cell_type": "code",
   "execution_count": 5,
   "id": "9c210f08",
   "metadata": {},
   "outputs": [],
   "source": [
    "def cal_candidate_node_list_minimax_path(i, j, minimax_path_matrix, X_distance_matrix):\n",
    "    \n",
    "    N = len(X_distance_matrix)\n",
    "    \n",
    "    remaining_list = [k for k in np.arange(N) if k != i and k != j]\n",
    "    candidate_node_list = []\n",
    "    candidate_node_list.append(i)\n",
    "    for t in remaining_list:\n",
    "        if minimax_path_matrix[i,j] < max(minimax_path_matrix[i,t], minimax_path_matrix[t,j]):\n",
    "            pass\n",
    "        else:\n",
    "            candidate_node_list.append(t)\n",
    "    candidate_node_list.append(j)\n",
    " \n",
    "    return candidate_node_list\n",
    "        \n",
    "\n"
   ]
  },
  {
   "cell_type": "code",
   "execution_count": 6,
   "id": "ae965627",
   "metadata": {},
   "outputs": [],
   "source": [
    "\n",
    "def cal_path_warm_start_minimax_path(i, j, minimax_path_matrix, X_distance_matrix):\n",
    "    candidate_node_list = cal_candidate_node_list_minimax_path(i, j, minimax_path_matrix, X_distance_matrix)\n",
    "    print(\"candidate_node_list: \\n\", candidate_node_list)\n",
    "    print(\"Size of candidate_node_list: \", len(candidate_node_list))\n",
    "   \n",
    "    small_matrix = output_small_matrix(X_distance_matrix, candidate_node_list)\n",
    "    path = dijkstra_show_path_minimax_path(small_matrix, 0, len(candidate_node_list) - 1)\n",
    "    path = translate_path(path, candidate_node_list)\n",
    "    \n",
    "    return path\n"
   ]
  },
  {
   "cell_type": "code",
   "execution_count": 7,
   "id": "0013e569",
   "metadata": {},
   "outputs": [],
   "source": [
    "# APPD stands for all points path distance (APPD).\n",
    "\n",
    "def check_minimax_path(i,j, X_distance_matrix, APPD_matrix, path):\n",
    "    temp1= path[:-1]\n",
    "    temp2= path[1:]\n",
    "    llll = [X_distance_matrix[temp1[i],temp2[i]] for i in range(len(temp1))]\n",
    "    ooo = np.max(llll)\n",
    "    return ooo == APPD_matrix[i,j]\n",
    "\n",
    "def check_if_temp_path_already_in(all_paths_list, temp_path):\n",
    "    aa = set(temp_path)\n",
    "    for bb in all_paths_list:\n",
    "        bb = set(bb)\n",
    "        if aa == bb:\n",
    "            return True\n",
    "    return False\n",
    "\n",
    "def cal_all_paths_warm_start_minimax_path(i, j, minimax_path_matrix, X_distance_matrix):\n",
    "    candidate_node_list = cal_candidate_node_list_minimax_path(i, j, minimax_path_matrix, X_distance_matrix)\n",
    " \n",
    "    small_matrix = output_small_matrix(X_distance_matrix, candidate_node_list)\n",
    "    path = dijkstra_show_path_minimax_path(small_matrix, 0, len(candidate_node_list) - 1)\n",
    "\n",
    "    all_paths_list = []\n",
    "    all_paths_list.append(path)\n",
    "\n",
    "    K = len(candidate_node_list)\n",
    "    # temp_list = [q for q in range(K) if q not in path]\n",
    "    \n",
    "    temp_list = [q for q in range(1, K - 1)]\n",
    "\n",
    "    for m in temp_list:\n",
    "        temp_path1 = dijkstra_show_path_minimax_path(small_matrix, 0, m)\n",
    "        temp_path2 = dijkstra_show_path_minimax_path(small_matrix, m, K - 1)\n",
    "        temp_path =  temp_path1[:-1] + temp_path2\n",
    "        if not check_if_temp_path_already_in(all_paths_list, temp_path):\n",
    "            all_paths_list.append(temp_path)\n",
    "\n",
    "    all_paths_list = [translate_path(ppp, candidate_node_list) for ppp in all_paths_list]    \n",
    "\n",
    "    return all_paths_list"
   ]
  },
  {
   "cell_type": "code",
   "execution_count": 8,
   "id": "cfb8eff9",
   "metadata": {},
   "outputs": [],
   "source": [
    "# N = 100\n",
    "\n",
    "# X_distance_matrix = create_distance_matrix(N)\n",
    "\n",
    "\n",
    "X_distance_matrix = np.loadtxt(\"./data/X_100_distance_matrix.csv\", delimiter=\",\")\n"
   ]
  },
  {
   "cell_type": "code",
   "execution_count": 9,
   "id": "8e87922b",
   "metadata": {},
   "outputs": [],
   "source": [
    "\n",
    "\n",
    " \n",
    "minimax_path_matrix = floyd_warshall_minimax_path(X_distance_matrix)\n",
    " "
   ]
  },
  {
   "cell_type": "code",
   "execution_count": 10,
   "id": "fb4b6901",
   "metadata": {},
   "outputs": [],
   "source": [
    "\n",
    "N = len(X_distance_matrix)\n"
   ]
  },
  {
   "cell_type": "code",
   "execution_count": 11,
   "id": "f63bdabe",
   "metadata": {
    "scrolled": true
   },
   "outputs": [
    {
     "name": "stdout",
     "output_type": "stream",
     "text": [
      "candidate_node_list: \n",
      " [10, 0, 1, 2, 3, 7, 9, 11, 12, 13, 15, 16, 17, 18, 19, 20, 21, 22, 23, 24, 25, 26, 27, 30, 32, 33, 34, 35, 37, 41, 45, 46, 51, 52, 55, 56, 59, 60, 61, 65, 67, 68, 69, 71, 72, 73, 74, 75, 76, 82, 85, 88, 90, 91, 94, 95, 97, 98, 99, 50]\n",
      "Size of candidate_node_list:  60\n",
      "Paths:\n",
      "[10, 90, 20, 13, 95, 17, 9, 50]\n",
      "[10, 90, 20, 13, 95, 17, 9, 50]\n"
     ]
    }
   ],
   "source": [
    "i = 10\n",
    "j = 50\n",
    "\n",
    "path1 = dijkstra_show_path_minimax_path(X_distance_matrix, i, j)\n",
    "    \n",
    "path2 = cal_path_warm_start_minimax_path(i, j, minimax_path_matrix, X_distance_matrix)\n",
    "print(\"Paths:\")\n",
    "print(path1)\n",
    "print(path2)\n",
    "\n",
    "\n",
    "    "
   ]
  },
  {
   "cell_type": "code",
   "execution_count": 12,
   "id": "87b16507",
   "metadata": {},
   "outputs": [
    {
     "data": {
      "text/plain": [
       "True"
      ]
     },
     "execution_count": 12,
     "metadata": {},
     "output_type": "execute_result"
    }
   ],
   "source": [
    "check_minimax_path(i,j, X_distance_matrix, minimax_path_matrix, path2)\n",
    "\n"
   ]
  },
  {
   "cell_type": "code",
   "execution_count": 13,
   "id": "60bbd478",
   "metadata": {},
   "outputs": [],
   "source": [
    "all_paths_list = cal_all_paths_warm_start_minimax_path(i, j, minimax_path_matrix, X_distance_matrix)"
   ]
  },
  {
   "cell_type": "code",
   "execution_count": 14,
   "id": "f0142716",
   "metadata": {
    "scrolled": false
   },
   "outputs": [
    {
     "name": "stdout",
     "output_type": "stream",
     "text": [
      "[10, 90, 20, 13, 95, 17, 9, 50] True\n",
      "[10, 90, 2, 19, 69, 34, 73, 7, 61, 45, 56, 68, 0, 76, 13, 95, 17, 9, 50] True\n",
      "[10, 90, 2, 19, 69, 34, 73, 55, 88, 74, 59, 1, 52, 46, 76, 13, 95, 17, 9, 50] True\n",
      "[10, 90, 2, 25, 22, 13, 95, 17, 9, 50] True\n",
      "[10, 90, 2, 19, 69, 52, 51, 85, 3, 85, 15, 34, 73, 55, 46, 76, 13, 95, 17, 9, 50] True\n",
      "[10, 90, 2, 19, 69, 34, 73, 7, 61, 82, 88, 74, 20, 13, 95, 17, 9, 50] True\n",
      "[10, 90, 20, 13, 95, 17, 91, 11, 59, 1, 52, 46, 76, 13, 95, 17, 9, 50] True\n",
      "[10, 90, 2, 19, 69, 52, 46, 76, 12, 85, 15, 34, 25, 22, 13, 95, 17, 9, 50] True\n",
      "[10, 90, 2, 19, 69, 60, 15, 34, 73, 55, 46, 76, 13, 95, 17, 9, 50] True\n",
      "[10, 90, 2, 19, 69, 60, 97, 16, 52, 46, 76, 13, 95, 17, 9, 50] True\n",
      "[10, 90, 2, 19, 69, 60, 37, 18, 94, 41, 15, 34, 73, 55, 46, 76, 13, 95, 17, 9, 50] True\n",
      "[10, 90, 2, 19, 69, 60, 15, 34, 25, 22, 13, 95, 17, 9, 50] True\n",
      "[10, 90, 2, 19, 69, 34, 73, 55, 88, 74, 59, 21, 23, 41, 15, 34, 25, 22, 13, 95, 17, 9, 50] True\n",
      "[10, 90, 2, 19, 69, 60, 37, 18, 24, 68, 0, 76, 13, 95, 17, 9, 50] True\n",
      "[10, 90, 2, 19, 69, 34, 73, 55, 88, 33, 99, 26, 33, 99, 72, 3, 85, 15, 34, 25, 22, 13, 95, 17, 9, 50] True\n",
      "[10, 90, 20, 13, 95, 27, 26, 33, 99, 72, 3, 85, 15, 34, 25, 22, 13, 95, 17, 9, 50] True\n",
      "[10, 90, 2, 19, 69, 34, 73, 7, 61, 45, 67, 30, 82, 88, 74, 20, 13, 95, 17, 9, 50] True\n",
      "[10, 90, 20, 13, 95, 17, 9, 50, 32, 65, 35, 34, 25, 22, 13, 95, 17, 9, 50] True\n",
      "[10, 90, 2, 19, 69, 34, 73, 55, 88, 33, 99, 72, 3, 85, 15, 34, 25, 22, 13, 95, 17, 9, 50] True\n",
      "[10, 90, 2, 19, 69, 34, 73, 55, 46, 76, 13, 95, 17, 9, 50] True\n",
      "[10, 90, 2, 19, 69, 34, 73, 7, 61, 45, 35, 34, 25, 22, 13, 95, 17, 9, 50] True\n",
      "[10, 90, 2, 19, 69, 34, 73, 55, 88, 74, 59, 21, 23, 41, 15, 34, 73, 55, 46, 76, 13, 95, 17, 9, 50] True\n",
      "[10, 90, 2, 19, 69, 34, 73, 7, 61, 45, 82, 88, 74, 20, 13, 95, 17, 9, 50] True\n",
      "[10, 90, 2, 19, 69, 52, 46, 76, 13, 95, 17, 9, 50] True\n",
      "[10, 90, 2, 19, 69, 52, 51, 85, 15, 34, 73, 55, 46, 76, 13, 95, 17, 9, 50] True\n",
      "[10, 90, 2, 19, 69, 34, 73, 7, 61, 45, 56, 88, 74, 20, 13, 95, 17, 9, 50] True\n",
      "[10, 90, 2, 19, 69, 34, 73, 55, 88, 33, 99, 71, 20, 13, 95, 17, 9, 50] True\n",
      "[10, 90, 2, 19, 69, 34, 73, 55, 88, 33, 99, 72, 3, 85, 15, 34, 73, 55, 46, 76, 13, 95, 17, 9, 50] True\n",
      "[10, 90, 2, 19, 69, 34, 73, 55, 88, 74, 20, 13, 95, 17, 9, 50] True\n",
      "[10, 90, 2, 25, 75, 56, 88, 74, 20, 13, 95, 17, 9, 50] True\n",
      "[10, 90, 20, 13, 95, 17, 91, 46, 76, 13, 95, 17, 9, 50] True\n",
      "[10, 90, 2, 19, 69, 60, 97, 76, 13, 95, 17, 9, 50] True\n",
      "[10, 90, 2, 19, 69, 60, 98, 75, 56, 88, 74, 20, 13, 95, 17, 9, 50] True\n"
     ]
    }
   ],
   "source": [
    "for path_i in all_paths_list:\n",
    "    aaa = check_minimax_path(i,j, X_distance_matrix, minimax_path_matrix, path_i)\n",
    "    print(path_i, aaa)\n",
    "\n"
   ]
  },
  {
   "cell_type": "code",
   "execution_count": 15,
   "id": "76900a86",
   "metadata": {},
   "outputs": [
    {
     "data": {
      "text/plain": [
       "33"
      ]
     },
     "execution_count": 15,
     "metadata": {},
     "output_type": "execute_result"
    }
   ],
   "source": [
    "len(all_paths_list)"
   ]
  },
  {
   "cell_type": "code",
   "execution_count": null,
   "id": "fb97642f",
   "metadata": {},
   "outputs": [],
   "source": []
  }
 ],
 "metadata": {
  "kernelspec": {
   "display_name": "Python 3 (ipykernel)",
   "language": "python",
   "name": "python3"
  },
  "language_info": {
   "codemirror_mode": {
    "name": "ipython",
    "version": 3
   },
   "file_extension": ".py",
   "mimetype": "text/x-python",
   "name": "python",
   "nbconvert_exporter": "python",
   "pygments_lexer": "ipython3",
   "version": "3.12.3"
  }
 },
 "nbformat": 4,
 "nbformat_minor": 5
}
