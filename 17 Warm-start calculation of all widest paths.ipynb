{
 "cells": [
  {
   "cell_type": "code",
   "execution_count": null,
   "id": "e919a87e",
   "metadata": {},
   "outputs": [],
   "source": []
  },
  {
   "cell_type": "code",
   "execution_count": 1,
   "id": "c8f75cd9",
   "metadata": {},
   "outputs": [],
   "source": [
    "exec(open(\"./funcs/tool_funcs.py\").read())\n"
   ]
  },
  {
   "cell_type": "code",
   "execution_count": null,
   "id": "562c9604",
   "metadata": {},
   "outputs": [],
   "source": []
  },
  {
   "cell_type": "code",
   "execution_count": 2,
   "id": "1e12bdac",
   "metadata": {},
   "outputs": [],
   "source": [
    "# For the widest path problem, we need a Max-Heap, rather than a Min-Heap. \n",
    "# We use some techniques to convert a Min-Heap into a Max-Heap.\n",
    "\n",
    "\n",
    "def dijkstra_show_path_widest_path(adj_matrix, start, end):\n",
    " \n",
    "    n = len(adj_matrix)\n",
    "    distances = [0] * n\n",
    "    previous_nodes = [-1] * n\n",
    "    distances[start] = np.inf\n",
    "    \n",
    "    # For the widest path problem, we need a Max-Heap, rather than a Min-Heap.\n",
    "    priority_queue = [(-np.inf, start)]  # (distance, node)\n",
    "\n",
    " \n",
    "    \n",
    "    while priority_queue:\n",
    "       \n",
    "        \n",
    "        # For the widest path problem, we need a Max-Heap, rather than a Min-Heap.\n",
    "        current_distance, current_node = heapq.heappop(priority_queue)\n",
    "        current_distance = -current_distance\n",
    "\n",
    "        # Stop if we reached the destination node\n",
    "        if current_node == end:\n",
    "            break\n",
    "\n",
    "        # If the distance is no longer optimal, skip\n",
    "        if current_distance < distances[current_node]:\n",
    "            continue\n",
    "\n",
    "        # Explore neighbors\n",
    "        for neighbor, weight in enumerate(adj_matrix[current_node]):\n",
    "            if weight < np.inf:  \n",
    "                distance = min(current_distance, weight)\n",
    "\n",
    "                # Update distance if it's better\n",
    "                if distance > distances[neighbor]:\n",
    "                    distances[neighbor] = distance\n",
    "                    previous_nodes[neighbor] = current_node\n",
    "                    \n",
    "                    # For the widest path problem, we need a Max-Heap, rather than a Min-Heap.\n",
    "                    heapq.heappush(priority_queue, (-distance, neighbor))\n",
    "\n",
    "    # Reconstruct the path from end to start\n",
    "    path = []\n",
    "    current = end\n",
    "    while current != -1:\n",
    "        path.append(current)\n",
    "        current = previous_nodes[current]\n",
    "    path.reverse()\n",
    "\n",
    "    # If the start node isn't reachable, return an empty path\n",
    "    return path if path[0] == start else []"
   ]
  },
  {
   "cell_type": "code",
   "execution_count": null,
   "id": "8c3c2a38",
   "metadata": {},
   "outputs": [],
   "source": []
  },
  {
   "cell_type": "code",
   "execution_count": 3,
   "id": "a96d92af",
   "metadata": {},
   "outputs": [],
   "source": [
    "def translate_path(path, candidate_node_list):\n",
    "    new_path = [candidate_node_list[i] for i in path]\n",
    "    return new_path\n",
    "\n",
    "\n"
   ]
  },
  {
   "cell_type": "code",
   "execution_count": null,
   "id": "ad6bbacb",
   "metadata": {},
   "outputs": [],
   "source": []
  },
  {
   "cell_type": "code",
   "execution_count": 4,
   "id": "ff1876be",
   "metadata": {},
   "outputs": [],
   "source": [
    "def output_small_matrix(X_distance_matrix, candidate_node_list):\n",
    "    small_matrix = np.zeros((len(candidate_node_list), len(candidate_node_list)))\n",
    "    for i, ii in enumerate(candidate_node_list):\n",
    "        for j, jj in enumerate(candidate_node_list):\n",
    "            small_matrix[i,j] = X_distance_matrix[ii, jj]\n",
    "    return small_matrix\n",
    "\n",
    "\n"
   ]
  },
  {
   "cell_type": "code",
   "execution_count": 5,
   "id": "9c210f08",
   "metadata": {},
   "outputs": [],
   "source": [
    "def cal_candidate_node_list_widest_path(i, j, widest_path_matrix, X_distance_matrix):\n",
    "    \n",
    "    N = len(X_distance_matrix)\n",
    "    \n",
    "    remaining_list = [k for k in np.arange(N) if k != i and k != j]\n",
    "    candidate_node_list = []\n",
    "    candidate_node_list.append(i)\n",
    "    for t in remaining_list:\n",
    "        if widest_path_matrix[i,j] > min(widest_path_matrix[i,t], widest_path_matrix[t,j]):\n",
    "            pass\n",
    "        else:\n",
    "            candidate_node_list.append(t)\n",
    "    candidate_node_list.append(j)\n",
    " \n",
    "    return candidate_node_list\n",
    "        \n",
    "\n"
   ]
  },
  {
   "cell_type": "code",
   "execution_count": 6,
   "id": "ae965627",
   "metadata": {},
   "outputs": [],
   "source": [
    "\n",
    "def cal_path_warm_start_widest_path(i, j, widest_path_matrix, X_distance_matrix):\n",
    "    candidate_node_list = cal_candidate_node_list_widest_path(i, j, widest_path_matrix, X_distance_matrix)\n",
    "    print(\"candidate_node_list: \\n\", candidate_node_list)\n",
    "    print(\"Size of candidate_node_list: \", len(candidate_node_list))\n",
    "   \n",
    "    small_matrix = output_small_matrix(X_distance_matrix, candidate_node_list)\n",
    "    path = dijkstra_show_path_widest_path(small_matrix, 0, len(candidate_node_list) - 1)\n",
    "    path = translate_path(path, candidate_node_list)\n",
    "    \n",
    "    return path\n"
   ]
  },
  {
   "cell_type": "code",
   "execution_count": 7,
   "id": "dd11af3e",
   "metadata": {},
   "outputs": [],
   "source": [
    "# APPD stands for all points path distance (APPD).\n",
    "\n",
    "def check_widest_path(i,j, X_distance_matrix, APPD_matrix, path):\n",
    "    temp1= path[:-1]\n",
    "    temp2= path[1:]\n",
    "    llll = [X_distance_matrix[temp1[i],temp2[i]] for i in range(len(temp1))]\n",
    "    ooo = np.min(llll)\n",
    "    return ooo == APPD_matrix[i,j]\n",
    "\n",
    "def check_if_temp_path_already_in(all_paths_list, temp_path):\n",
    "    aa = set(temp_path)\n",
    "    for bb in all_paths_list:\n",
    "        bb = set(bb)\n",
    "        if aa == bb:\n",
    "            return True\n",
    "    return False\n",
    "\n",
    "def cal_all_paths_warm_start_widest_path(i, j, widest_path_matrix, X_distance_matrix):\n",
    "    candidate_node_list = cal_candidate_node_list_widest_path(i, j, widest_path_matrix, X_distance_matrix)\n",
    " \n",
    "    small_matrix = output_small_matrix(X_distance_matrix, candidate_node_list)\n",
    "    path = dijkstra_show_path_widest_path(small_matrix, 0, len(candidate_node_list) - 1)\n",
    "\n",
    "    all_paths_list = []\n",
    "    all_paths_list.append(path)\n",
    "\n",
    "    K = len(candidate_node_list)\n",
    "    temp_list = [q for q in range(K) if q not in path]\n",
    "\n",
    "    for m in temp_list:\n",
    "        temp_path1 = dijkstra_show_path_widest_path(small_matrix, 0, m)\n",
    "        temp_path2 = dijkstra_show_path_widest_path(small_matrix, m, K - 1)\n",
    "        temp_path =  temp_path1[:-1] + temp_path2\n",
    "        if not check_if_temp_path_already_in(all_paths_list, temp_path):\n",
    "            all_paths_list.append(temp_path)\n",
    "\n",
    "    all_paths_list = [translate_path(ppp, candidate_node_list) for ppp in all_paths_list]    \n",
    "\n",
    "    return all_paths_list"
   ]
  },
  {
   "cell_type": "code",
   "execution_count": null,
   "id": "f03bedee",
   "metadata": {},
   "outputs": [],
   "source": []
  },
  {
   "cell_type": "code",
   "execution_count": 8,
   "id": "9a37675d",
   "metadata": {},
   "outputs": [],
   "source": [
    "# N = 100\n",
    "\n",
    "# X_distance_matrix = create_distance_matrix(N)\n",
    "\n",
    "\n",
    "X_distance_matrix = np.loadtxt(\"./data/X_100_distance_matrix.csv\", delimiter=\",\")\n"
   ]
  },
  {
   "cell_type": "code",
   "execution_count": null,
   "id": "09ec1101",
   "metadata": {},
   "outputs": [],
   "source": []
  },
  {
   "cell_type": "code",
   "execution_count": 9,
   "id": "5485d3a6",
   "metadata": {},
   "outputs": [],
   "source": [
    "\n",
    "# For the widest path problem, a node's bandwidth to itself should be infinity.\n",
    "\n",
    "\n",
    "N = len(X_distance_matrix)\n",
    "for i in range(N):\n",
    "    X_distance_matrix[i,i] = np.inf\n"
   ]
  },
  {
   "cell_type": "code",
   "execution_count": 10,
   "id": "8e87922b",
   "metadata": {},
   "outputs": [],
   "source": [
    "\n",
    "\n",
    " \n",
    "widest_path_matrix = floyd_warshall_widest_path(X_distance_matrix)\n",
    " "
   ]
  },
  {
   "cell_type": "code",
   "execution_count": 11,
   "id": "f63bdabe",
   "metadata": {},
   "outputs": [
    {
     "name": "stdout",
     "output_type": "stream",
     "text": [
      "candidate_node_list: \n",
      " [10, 0, 1, 2, 4, 6, 7, 8, 9, 11, 12, 13, 15, 16, 17, 18, 19, 20, 21, 22, 24, 25, 27, 29, 31, 32, 34, 35, 36, 37, 39, 40, 41, 42, 43, 45, 47, 48, 49, 51, 52, 54, 55, 56, 57, 59, 60, 61, 62, 63, 64, 65, 66, 68, 69, 70, 71, 72, 74, 75, 77, 78, 80, 81, 83, 84, 87, 88, 89, 91, 93, 94, 95, 96, 97, 98, 99, 50]\n",
      "Size of candidate_node_list:  78\n",
      "Paths:\n",
      "[10, 0, 80, 50]\n",
      "[10, 0, 80, 50]\n"
     ]
    }
   ],
   "source": [
    "i = 10\n",
    "j = 50\n",
    "\n",
    "path1 = dijkstra_show_path_widest_path(X_distance_matrix, i, j)  \n",
    "path2 = cal_path_warm_start_widest_path(i, j, widest_path_matrix, X_distance_matrix) \n",
    "print(\"Paths:\")\n",
    "print(path1)\n",
    "print(path2)\n",
    "\n",
    "\n",
    "    "
   ]
  },
  {
   "cell_type": "code",
   "execution_count": 12,
   "id": "87b16507",
   "metadata": {},
   "outputs": [
    {
     "data": {
      "text/plain": [
       "True"
      ]
     },
     "execution_count": 12,
     "metadata": {},
     "output_type": "execute_result"
    }
   ],
   "source": [
    "check_widest_path(i,j, X_distance_matrix, widest_path_matrix, path2)\n",
    "\n"
   ]
  },
  {
   "cell_type": "code",
   "execution_count": 13,
   "id": "60bbd478",
   "metadata": {},
   "outputs": [],
   "source": [
    "all_paths_list = cal_all_paths_warm_start_widest_path(i, j, widest_path_matrix, X_distance_matrix)"
   ]
  },
  {
   "cell_type": "code",
   "execution_count": 14,
   "id": "f0142716",
   "metadata": {
    "scrolled": false
   },
   "outputs": [
    {
     "name": "stdout",
     "output_type": "stream",
     "text": [
      "[10, 0, 80, 50] True\n",
      "[10, 0, 80, 54, 12, 32, 45, 9, 29, 65, 22, 70, 1, 34, 69, 29, 7, 77, 81, 50] True\n",
      "[10, 0, 80, 54, 12, 32, 45, 9, 43, 2, 64, 98, 65, 22, 96, 9, 72, 27, 7, 77, 81, 50] True\n",
      "[10, 0, 80, 54, 64, 98, 4, 8, 69, 29, 7, 77, 81, 50] True\n",
      "[10, 0, 80, 54, 12, 32, 45, 9, 72, 6, 12, 32, 45, 9, 29, 7, 77, 81, 50] True\n",
      "[10, 0, 80, 54, 12, 32, 45, 9, 29, 7, 77, 81, 50] True\n",
      "[10, 0, 80, 54, 64, 98, 4, 8, 65, 22, 96, 9, 72, 27, 7, 77, 81, 50] True\n",
      "[10, 0, 80, 54, 12, 32, 45, 9, 72, 27, 7, 77, 81, 50] True\n",
      "[10, 0, 80, 54, 12, 32, 45, 9, 29, 65, 94, 36, 11, 15, 80, 50] True\n",
      "[10, 0, 80, 54, 12, 32, 45, 9, 72, 27, 13, 47, 87, 21, 6, 12, 32, 45, 9, 29, 7, 77, 81, 50] True\n",
      "[10, 0, 80, 54, 12, 32, 45, 9, 29, 65, 94, 36, 11, 15, 80, 74, 71, 51, 2, 64, 98, 65, 22, 96, 9, 72, 27, 7, 77, 81, 50] True\n",
      "[10, 0, 80, 54, 12, 32, 45, 9, 29, 65, 94, 36, 37, 95, 88, 24, 56, 16, 42, 81, 50] True\n",
      "[10, 0, 80, 54, 12, 32, 45, 9, 29, 7, 17, 0, 80, 50] True\n",
      "[10, 0, 80, 54, 12, 32, 45, 9, 29, 7, 77, 19, 18, 97, 41, 50] True\n",
      "[10, 0, 80, 54, 12, 32, 45, 9, 29, 7, 77, 19, 98, 65, 22, 96, 9, 72, 27, 7, 77, 81, 50] True\n",
      "[10, 0, 80, 54, 12, 32, 45, 9, 72, 27, 60, 39, 20, 0, 80, 50] True\n",
      "[10, 0, 80, 54, 12, 32, 45, 9, 43, 2, 47, 87, 21, 22, 96, 9, 72, 27, 7, 77, 81, 50] True\n",
      "[10, 0, 80, 54, 12, 32, 45, 9, 29, 65, 22, 96, 9, 72, 27, 7, 77, 81, 50] True\n",
      "[10, 0, 80, 54, 12, 32, 45, 9, 29, 65, 94, 36, 37, 95, 88, 24, 35, 81, 50] True\n",
      "[10, 0, 80, 54, 12, 32, 45, 9, 43, 75, 91, 25, 2, 64, 98, 65, 94, 36, 87, 21, 6, 12, 32, 45, 9, 29, 7, 77, 81, 50] True\n",
      "[10, 0, 80, 54, 12, 32, 45, 9, 72, 27, 13, 93, 31, 40, 94, 36, 87, 21, 6, 12, 32, 45, 9, 29, 7, 77, 81, 50] True\n",
      "[10, 0, 80, 54, 12, 32, 45, 9, 29, 65, 94, 36, 87, 21, 22, 96, 9, 72, 27, 7, 77, 81, 50] True\n",
      "[10, 0, 80, 54, 12, 32, 45, 9, 29, 65, 94, 36, 37, 95, 88, 24, 56, 52, 80, 50] True\n",
      "[10, 0, 80, 54, 12, 32, 45, 9, 72, 27, 60, 39, 71, 51, 2, 64, 98, 65, 22, 96, 9, 72, 27, 7, 77, 81, 50] True\n",
      "[10, 0, 80, 54, 12, 32, 45, 9, 72, 27, 41, 50] True\n",
      "[10, 0, 80, 54, 12, 32, 45, 9, 43, 75, 51, 2, 64, 98, 65, 22, 96, 9, 72, 27, 7, 77, 81, 50] True\n",
      "[10, 0, 80, 54, 12, 32, 45, 9, 43, 2, 47, 87, 21, 6, 12, 32, 45, 9, 29, 7, 77, 81, 50] True\n",
      "[10, 0, 80, 54, 12, 32, 45, 9, 72, 27, 60, 39, 48, 59, 99, 61, 9, 29, 7, 77, 81, 50] True\n",
      "[10, 0, 80, 54, 12, 32, 45, 9, 43, 49, 17, 0, 80, 50] True\n",
      "[10, 0, 80, 54, 12, 32, 45, 9, 29, 65, 94, 36, 37, 95, 88, 24, 56, 52, 80, 74, 71, 51, 2, 64, 98, 65, 22, 96, 9, 72, 27, 7, 77, 81, 50] True\n",
      "[10, 0, 80, 54, 64, 98, 65, 22, 96, 9, 72, 27, 7, 77, 81, 50] True\n",
      "[10, 0, 80, 54, 12, 32, 45, 9, 72, 27, 78, 62, 57, 55, 78, 62, 75, 91, 12, 32, 45, 9, 29, 7, 77, 81, 50] True\n",
      "[10, 0, 80, 54, 12, 32, 45, 9, 72, 27, 78, 62, 57, 66, 94, 36, 11, 15, 80, 50] True\n",
      "[10, 0, 80, 54, 12, 32, 45, 9, 72, 27, 60, 39, 71, 51, 29, 7, 77, 81, 50] True\n",
      "[10, 0, 80, 54, 12, 32, 45, 9, 29, 65, 94, 36, 37, 95, 88, 24, 56, 16, 42, 61, 9, 29, 7, 77, 81, 50] True\n",
      "[10, 0, 80, 54, 12, 32, 45, 9, 72, 27, 78, 62, 75, 51, 2, 64, 98, 65, 22, 96, 9, 72, 27, 7, 77, 81, 50] True\n",
      "[10, 0, 80, 74, 63, 50] True\n",
      "[10, 0, 80, 54, 12, 32, 45, 9, 72, 27, 78, 62, 57, 66, 94, 36, 87, 21, 6, 12, 32, 45, 9, 29, 7, 77, 81, 50] True\n",
      "[10, 0, 80, 54, 12, 32, 45, 9, 72, 27, 13, 93, 68, 64, 98, 65, 94, 36, 11, 15, 80, 50] True\n",
      "[10, 0, 80, 54, 12, 32, 45, 9, 29, 65, 22, 70, 1, 34, 69, 45, 9, 72, 27, 7, 77, 81, 50] True\n",
      "[10, 0, 80, 74, 71, 51, 2, 64, 98, 65, 22, 96, 9, 72, 27, 7, 77, 81, 50] True\n",
      "[10, 0, 80, 54, 12, 32, 45, 9, 72, 27, 78, 62, 75, 91, 12, 32, 45, 9, 29, 7, 77, 81, 50] True\n",
      "[10, 0, 80, 54, 12, 32, 45, 9, 72, 6, 81, 50] True\n",
      "[10, 0, 80, 54, 12, 32, 45, 9, 72, 27, 83, 43, 75, 51, 2, 64, 98, 65, 22, 96, 9, 72, 27, 7, 77, 81, 50] True\n",
      "[10, 0, 80, 54, 12, 32, 45, 9, 72, 27, 78, 84, 51, 2, 64, 98, 65, 22, 96, 9, 72, 27, 7, 77, 81, 50] True\n",
      "[10, 0, 80, 54, 89, 20, 0, 80, 50] True\n",
      "[10, 0, 80, 54, 12, 32, 45, 9, 43, 75, 91, 12, 32, 45, 9, 29, 7, 77, 81, 50] True\n",
      "[10, 0, 80, 54, 12, 32, 45, 9, 29, 65, 94, 36, 87, 21, 6, 12, 32, 45, 9, 29, 7, 77, 81, 50] True\n",
      "[10, 0, 80, 54, 99, 61, 9, 29, 7, 77, 81, 50] True\n"
     ]
    }
   ],
   "source": [
    "for path_i in all_paths_list:\n",
    "    aaa = check_widest_path(i,j, X_distance_matrix, widest_path_matrix, path_i)\n",
    "    print(path_i, aaa)\n",
    "\n"
   ]
  },
  {
   "cell_type": "code",
   "execution_count": 15,
   "id": "76900a86",
   "metadata": {},
   "outputs": [
    {
     "data": {
      "text/plain": [
       "49"
      ]
     },
     "execution_count": 15,
     "metadata": {},
     "output_type": "execute_result"
    }
   ],
   "source": [
    "len(all_paths_list)"
   ]
  },
  {
   "cell_type": "code",
   "execution_count": null,
   "id": "e5064c18",
   "metadata": {},
   "outputs": [],
   "source": []
  }
 ],
 "metadata": {
  "kernelspec": {
   "display_name": "Python 3 (ipykernel)",
   "language": "python",
   "name": "python3"
  },
  "language_info": {
   "codemirror_mode": {
    "name": "ipython",
    "version": 3
   },
   "file_extension": ".py",
   "mimetype": "text/x-python",
   "name": "python",
   "nbconvert_exporter": "python",
   "pygments_lexer": "ipython3",
   "version": "3.12.3"
  }
 },
 "nbformat": 4,
 "nbformat_minor": 5
}
