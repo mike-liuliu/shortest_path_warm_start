{
 "cells": [
  {
   "cell_type": "code",
   "execution_count": 1,
   "id": "ae288796",
   "metadata": {},
   "outputs": [],
   "source": [
    "exec(open(\"./funcs/tool_funcs.py\").read())\n",
    "\n"
   ]
  },
  {
   "cell_type": "code",
   "execution_count": 2,
   "id": "bad63ce7",
   "metadata": {},
   "outputs": [],
   "source": [
    "def cal_need_update_list_minimax_path(remove_node, X_minimax_path_matrix):\n",
    "    N = len(X_minimax_path_matrix)\n",
    "    removal = remove_node\n",
    "    remaining_list = [i for i in np.arange(N) if i != removal]\n",
    "    need_update_list = [[] for i in range(N)]\n",
    "    how_many_counter = np.zeros(N)\n",
    "    for i in remaining_list:\n",
    "        for j in remaining_list:\n",
    "            if i != j:\n",
    "                if X_minimax_path_matrix[i,j] >= max(X_minimax_path_matrix[i,removal], X_minimax_path_matrix[removal,j]):\n",
    "                    need_update_list[i].append(j)\n",
    "                    how_many_counter[i] += 1\n",
    "    \n",
    "    how_many = np.sum(how_many_counter > 0)\n",
    "    \n",
    "    return need_update_list, how_many\n",
    "\n",
    "def generate_new_distance_matrix_minimax_path(X_distance_matrix, remove_node):\n",
    "    X_distance_matrix_new = X_distance_matrix.copy()\n",
    " \n",
    "\n",
    "    N = len(X_distance_matrix)\n",
    "    for i in range(N):\n",
    "        for j in range(N):\n",
    "            if i == remove_node or j == remove_node:\n",
    "                X_distance_matrix_new[i,j] = np.inf\n",
    "\n",
    "    X_distance_matrix_new[remove_node,remove_node] = 0  \n",
    "    \n",
    "    return X_distance_matrix_new"
   ]
  },
  {
   "cell_type": "code",
   "execution_count": 3,
   "id": "567ce66a",
   "metadata": {},
   "outputs": [],
   "source": [
    "def dijkstra_one_to_all_minimax_path(distance_matrix, src, need_up_i, remove_node):\n",
    "    \n",
    "    N = len(distance_matrix)\n",
    "    dist = [np.inf] * N\n",
    "    dist[src] = 0\n",
    "    visited = [False] * N\n",
    "\n",
    "    # Priority queue: (distance, node)\n",
    "    pq = [(0, src)]\n",
    "    \n",
    "    kk = len(need_up_i)\n",
    "    counter = 0\n",
    "    visited[remove_node] = True\n",
    "\n",
    "    while pq:\n",
    "        current_dist, u = heapq.heappop(pq)\n",
    "\n",
    "        if visited[u]:\n",
    "            continue\n",
    "        visited[u] = True\n",
    "        \n",
    "        if u in need_up_i:\n",
    "            counter += 1\n",
    "            if counter == kk:\n",
    "                # import pdb;pdb.set_trace()\n",
    "                return np.array(dist)\n",
    " \n",
    "\n",
    "        # Update distances for neighbors\n",
    "        for v in range(N):\n",
    "            if not visited[v] and distance_matrix[u][v] > 0:\n",
    "                new_dist = max(current_dist, distance_matrix[u][v])\n",
    "                if new_dist < dist[v]:\n",
    "                    dist[v] = new_dist\n",
    "                    heapq.heappush(pq, (new_dist, v))\n",
    "\n",
    "    return np.array(dist)"
   ]
  },
  {
   "cell_type": "code",
   "execution_count": 4,
   "id": "ee14652e",
   "metadata": {},
   "outputs": [],
   "source": [
    "\n",
    "def cal_new_minimax_path_matrix_warm(X_distance_matrix, X_minimax_path_matrix, remove_node):\n",
    "    N = len(X_distance_matrix)\n",
    "    X_minimax_path_matrix_new = X_minimax_path_matrix.copy()\n",
    "    remaining_list = [i for i in np.arange(N) if i != remove_node]\n",
    "\n",
    "    need_update_list, how_many = cal_need_update_list_minimax_path(remove_node, X_minimax_path_matrix)\n",
    "    \n",
    "    Cost = np.round(how_many/(N - 1), 3)\n",
    "    \n",
    "    print(\"Cost: \", Cost)\n",
    "\n",
    "    X_distance_matrix_new = generate_new_distance_matrix_minimax_path(X_distance_matrix, remove_node)\n",
    " \n",
    "    for i in remaining_list:\n",
    "        if len(need_update_list[i]) > 0:\n",
    "            temp = dijkstra_one_to_all_minimax_path(X_distance_matrix_new, i, need_update_list[i], remove_node)\n",
    "\n",
    "            for j in need_update_list[i]:\n",
    "                X_minimax_path_matrix_new[i,j] = temp[j]\n",
    " \n",
    "    for i in range(N):\n",
    "        for j in range(N):\n",
    "            if i == remove_node or j == remove_node:\n",
    "                X_minimax_path_matrix_new[i,j] = np.inf\n",
    "\n",
    "    X_minimax_path_matrix_new[remove_node,remove_node] = 0\n",
    "    \n",
    "    return X_minimax_path_matrix_new \n"
   ]
  },
  {
   "cell_type": "code",
   "execution_count": null,
   "id": "f26e801c",
   "metadata": {},
   "outputs": [],
   "source": []
  },
  {
   "cell_type": "code",
   "execution_count": 5,
   "id": "bbf11671",
   "metadata": {},
   "outputs": [],
   "source": [
    "def minimax_path_n_to_r_new(distance_matrix, minimax_path_matrix, remaining_list, r, remove_node):\n",
    "  \n",
    "    max_jump_list = []\n",
    "    for t in remaining_list:\n",
    "        m_jump =  max(distance_matrix[remove_node,t], minimax_path_matrix[t,r])\n",
    "        max_jump_list.append(m_jump)\n",
    "    return np.min(max_jump_list)\n",
    "\n",
    "def minimax_path_r_to_n_new(distance_matrix, minimax_path_matrix, remaining_list, r, remove_node):\n",
    "    max_jump_list = []\n",
    "    for t in remaining_list:\n",
    "        m_jump =  max(minimax_path_matrix[r,t], distance_matrix[t, remove_node]) \n",
    "        max_jump_list.append(m_jump)\n",
    "    return np.min(max_jump_list)\n",
    "\n",
    "     \n",
    "def cal_n_minimax_path_new(distance_matrix, minimax_path_matrix, remove_node, remaining_list):\n",
    "    for r in remaining_list:\n",
    "        minimax_path_matrix[remove_node, r] = minimax_path_n_to_r_new(distance_matrix, minimax_path_matrix, remaining_list, r, remove_node)\n",
    "        minimax_path_matrix[r, remove_node] = minimax_path_r_to_n_new(distance_matrix, minimax_path_matrix, remaining_list, r, remove_node)\n",
    "        \n",
    "    for i in remaining_list:        \n",
    "        for j in remaining_list:\n",
    "            if i < j:\n",
    "                minimax_path_matrix[i,j] =  update_minimax_path_ij_new(distance_matrix, minimax_path_matrix, remove_node, i, j)\n",
    "                minimax_path_matrix[j,i] =  update_minimax_path_ij_new(distance_matrix, minimax_path_matrix, remove_node, j, i)\n",
    "                \n",
    "def update_minimax_path_ij_new(distance_matrix, minimax_path_matrix, remove_node, i,j):\n",
    "    m1 = minimax_path_matrix[i,j]\n",
    "    m2 =  max(minimax_path_matrix[i,remove_node], minimax_path_matrix[remove_node,j])\n",
    "    return np.min((m1,m2))\n",
    "\n"
   ]
  },
  {
   "cell_type": "code",
   "execution_count": 6,
   "id": "5fe00640",
   "metadata": {},
   "outputs": [],
   "source": [
    "def cal_which_to_remove(X_minimax_path_matrix, edge_nodes):\n",
    "   \n",
    "    _, how_many0 = cal_need_update_list_minimax_path(edge_nodes[0], X_minimax_path_matrix)\n",
    "    _, how_many1 = cal_need_update_list_minimax_path(edge_nodes[1], X_minimax_path_matrix)\n",
    "    if how_many0 < how_many1:\n",
    "        remove_node = edge_nodes[0]\n",
    "    else:\n",
    "        remove_node = edge_nodes[1]\n",
    "    # print(how_many0, how_many1, edge_nodes, remove_node)\n",
    "    return remove_node\n",
    "    \n",
    "    \n",
    "    "
   ]
  },
  {
   "cell_type": "code",
   "execution_count": 7,
   "id": "f3908cfe",
   "metadata": {},
   "outputs": [],
   "source": [
    "\n",
    "def cal_minimax_path_matrix_after_graph_update(X_distance_matrix, X_minimax_path_matrix, edge_nodes, X_distance_matrix_updated):\n",
    "    \n",
    "    N = len(X_distance_matrix)\n",
    "    \n",
    "    remove_node = cal_which_to_remove(X_minimax_path_matrix, edge_nodes)\n",
    "\n",
    "    X_minimax_path_matrix_updated = cal_new_minimax_path_matrix_warm(X_distance_matrix, X_minimax_path_matrix, remove_node)\n",
    " \n",
    "    remaining_list = [i for i in np.arange(N) if i != remove_node]\n",
    "    \n",
    "    cal_n_minimax_path_new(X_distance_matrix_updated, X_minimax_path_matrix_updated, remove_node, remaining_list)\n",
    "    \n",
    "    return X_minimax_path_matrix_updated\n",
    "\n",
    " \n",
    "    "
   ]
  },
  {
   "cell_type": "code",
   "execution_count": 8,
   "id": "f43d265d",
   "metadata": {},
   "outputs": [],
   "source": [
    "# N = 100\n",
    "\n",
    "# X_distance_matrix = create_distance_matrix(N)"
   ]
  },
  {
   "cell_type": "code",
   "execution_count": 9,
   "id": "0c27abe2",
   "metadata": {},
   "outputs": [],
   "source": [
    "X_distance_matrix = np.loadtxt(\"./data/X_100_distance_matrix.csv\", delimiter=\",\")\n",
    " "
   ]
  },
  {
   "cell_type": "code",
   "execution_count": 10,
   "id": "782fa932",
   "metadata": {},
   "outputs": [],
   "source": [
    "\n",
    "edge_nodes = [3, 9]\n",
    "\n",
    "edge_weight = 50    \n",
    "\n",
    "X_distance_matrix_new = X_distance_matrix.copy()\n",
    "X_distance_matrix_new[edge_nodes[0],edge_nodes[1]] = edge_weight \n",
    "\n",
    "X_minimax_path_matrix = floyd_warshall_minimax_path(X_distance_matrix)"
   ]
  },
  {
   "cell_type": "code",
   "execution_count": 11,
   "id": "25fca405",
   "metadata": {
    "scrolled": true
   },
   "outputs": [
    {
     "name": "stdout",
     "output_type": "stream",
     "text": [
      "Cost:  1.0\n"
     ]
    }
   ],
   "source": [
    "start = time.time()\n",
    "X_minimax_path_matrix_new_warm = cal_minimax_path_matrix_after_graph_update(X_distance_matrix, X_minimax_path_matrix, edge_nodes, X_distance_matrix_new)\n",
    "end = time.time()\n",
    "\n",
    "\n",
    "time_used1_warm = end - start\n",
    "time_used1_warm = np.round(time_used1_warm, 3)"
   ]
  },
  {
   "cell_type": "code",
   "execution_count": 12,
   "id": "92cdab1d",
   "metadata": {},
   "outputs": [
    {
     "name": "stdout",
     "output_type": "stream",
     "text": [
      "Time used: 0.508s\n"
     ]
    }
   ],
   "source": [
    "print(f\"Time used: {time_used1_warm}s\" )\n"
   ]
  },
  {
   "cell_type": "code",
   "execution_count": 13,
   "id": "cb6205f4",
   "metadata": {},
   "outputs": [],
   "source": [
    "start = time.time()\n",
    "X_minimax_path_matrix_new_floyd_warshall = floyd_warshall_minimax_path(X_distance_matrix_new)\n",
    "end = time.time()\n",
    "\n",
    "\n",
    "time_used2_floyd = end - start\n",
    "time_used2_floyd = np.round(time_used2_floyd, 3)"
   ]
  },
  {
   "cell_type": "code",
   "execution_count": 14,
   "id": "fb08d972",
   "metadata": {},
   "outputs": [
    {
     "name": "stdout",
     "output_type": "stream",
     "text": [
      "Time used: 1.251s\n"
     ]
    }
   ],
   "source": [
    "print(f\"Time used: {time_used2_floyd}s\" )\n"
   ]
  },
  {
   "cell_type": "code",
   "execution_count": 15,
   "id": "9961be44",
   "metadata": {},
   "outputs": [
    {
     "name": "stdout",
     "output_type": "stream",
     "text": [
      "True\n"
     ]
    }
   ],
   "source": [
    "print(np.allclose(X_minimax_path_matrix_new_warm, X_minimax_path_matrix_new_floyd_warshall))\n"
   ]
  },
  {
   "cell_type": "code",
   "execution_count": 16,
   "id": "60b8a157",
   "metadata": {},
   "outputs": [
    {
     "name": "stdout",
     "output_type": "stream",
     "text": [
      "Ratio: 0.41\n"
     ]
    }
   ],
   "source": [
    "print(f\"Ratio: {np.round(time_used1_warm/time_used2_floyd, 2)}\")\n"
   ]
  },
  {
   "cell_type": "code",
   "execution_count": 17,
   "id": "6f5588d2",
   "metadata": {},
   "outputs": [
    {
     "data": {
      "text/plain": [
       "array([11.,  0., 15.,  8., 24., 18., 18.,  8., 12., 17.,  8., 17.,  8.,\n",
       "        8., 11.,  8., 17., 17.,  9., 11., 10., 15., 11., 15.,  9.,  9.,\n",
       "       15., 17., 21.,  8., 14., 13., 17., 11.,  8., 14., 29.,  8., 18.,\n",
       "       39.,  8.,  9.,  8., 21., 18., 14.,  8., 47., 10., 16., 17.,  8.,\n",
       "        8., 18., 21.,  8., 13., 21., 18., 10.,  8.,  8., 19.,  8., 42.,\n",
       "       17., 21., 14., 14.,  8., 15., 15., 13.,  8., 10.,  8.,  8., 17.,\n",
       "       18., 24., 20., 28., 10., 10., 18.,  8., 18., 27., 10., 22., 15.,\n",
       "       17., 26.,  8.,  9., 11., 18., 13.,  8., 11.])"
      ]
     },
     "execution_count": 17,
     "metadata": {},
     "output_type": "execute_result"
    }
   ],
   "source": [
    "X_minimax_path_matrix_new_warm[1]\n"
   ]
  },
  {
   "cell_type": "code",
   "execution_count": null,
   "id": "b6517c35",
   "metadata": {},
   "outputs": [],
   "source": []
  }
 ],
 "metadata": {
  "kernelspec": {
   "display_name": "Python 3 (ipykernel)",
   "language": "python",
   "name": "python3"
  },
  "language_info": {
   "codemirror_mode": {
    "name": "ipython",
    "version": 3
   },
   "file_extension": ".py",
   "mimetype": "text/x-python",
   "name": "python",
   "nbconvert_exporter": "python",
   "pygments_lexer": "ipython3",
   "version": "3.12.3"
  }
 },
 "nbformat": 4,
 "nbformat_minor": 5
}
