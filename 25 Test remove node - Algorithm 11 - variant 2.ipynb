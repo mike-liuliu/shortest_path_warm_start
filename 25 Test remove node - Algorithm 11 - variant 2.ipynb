{
 "cells": [
  {
   "cell_type": "code",
   "execution_count": 1,
   "id": "ae288796",
   "metadata": {},
   "outputs": [],
   "source": [
    "\n",
    "\n",
    "# This file tests another variant of Algorithm 11.\n",
    "\n"
   ]
  },
  {
   "cell_type": "code",
   "execution_count": 2,
   "id": "c01655ee",
   "metadata": {},
   "outputs": [],
   "source": [
    "\n",
    "exec(open(\"./funcs/tool_funcs.py\").read())\n",
    "\n"
   ]
  },
  {
   "cell_type": "code",
   "execution_count": 3,
   "id": "2846295f",
   "metadata": {},
   "outputs": [],
   "source": [
    " \n",
    "\n",
    "def dijkstra_one_to_all(distance_matrix, src, need_up_i, remove_node):\n",
    "    \n",
    "    N = len(distance_matrix)\n",
    "    dist = [np.inf] * N\n",
    "    dist[src] = 0\n",
    "    visited = [False] * N\n",
    "\n",
    "    # Priority queue: (distance, node)\n",
    "    pq = [(0, src)]\n",
    "    \n",
    "    kk = len(need_up_i)\n",
    "    counter = 0\n",
    "    visited[remove_node] = True\n",
    "\n",
    "    while pq:\n",
    "        current_dist, u = heapq.heappop(pq)\n",
    "\n",
    "        if visited[u]:\n",
    "            continue\n",
    "        visited[u] = True\n",
    " \n",
    "        \n",
    "        if u in need_up_i:\n",
    "            counter += 1\n",
    "            if counter == kk:\n",
    "                return np.array(dist)\n",
    " \n",
    "\n",
    "        # Update distances for neighbors\n",
    "        for v in range(N):\n",
    "            if not visited[v] and distance_matrix[u][v] > 0:\n",
    "                new_dist = current_dist + distance_matrix[u][v]\n",
    "                if new_dist < dist[v]:\n",
    "                    dist[v] = new_dist\n",
    "                    heapq.heappush(pq, (new_dist, v))\n",
    "\n",
    "    return np.array(dist)\n",
    "\n"
   ]
  },
  {
   "cell_type": "code",
   "execution_count": 4,
   "id": "fcc2e1f3",
   "metadata": {},
   "outputs": [],
   "source": [
    "# def dijkstra_one_to_one(adj_matrix, start, end):\n",
    " \n",
    "#     n = len(adj_matrix)\n",
    "#     distances = [float('inf')] * n\n",
    " \n",
    "#     distances[start] = 0\n",
    "#     priority_queue = [(0, start)] \n",
    "#     visited = [False] * n\n",
    "\n",
    "#     while priority_queue:\n",
    "#         current_distance, current_node = heapq.heappop(priority_queue)\n",
    "\n",
    "#         if visited[current_node]:\n",
    "#             continue\n",
    "#         visited[current_node] = True\n",
    "        \n",
    "#         if current_node == end:\n",
    "#             return distances[current_node]\n",
    "\n",
    " \n",
    "#         for neighbor, weight in enumerate(adj_matrix[current_node]):\n",
    "#             if not visited[neighbor] and weight > 0:  \n",
    "#                 distance = current_distance + weight\n",
    " \n",
    "#                 if distance < distances[neighbor]:\n",
    "#                     distances[neighbor] = distance\n",
    "#                     heapq.heappush(priority_queue, (distance, neighbor))\n",
    "  \n",
    " "
   ]
  },
  {
   "cell_type": "code",
   "execution_count": 5,
   "id": "d4514360",
   "metadata": {},
   "outputs": [],
   "source": [
    "def dijkstra_one_to_one(adj_matrix, start, end):\n",
    " \n",
    "    n = len(adj_matrix)\n",
    "    distances = [float('inf')] * n\n",
    "    previous_nodes = [-1] * n\n",
    "    distances[start] = 0\n",
    "    priority_queue = [(0, start)]  \n",
    "\n",
    "    while priority_queue:\n",
    "        current_distance, current_node = heapq.heappop(priority_queue)\n",
    "     \n",
    "        if current_node == end:\n",
    "            return distances[current_node]\n",
    "\n",
    "        if current_distance > distances[current_node]:\n",
    "            continue\n",
    "\n",
    "        for neighbor, weight in enumerate(adj_matrix[current_node]):\n",
    "            if weight > 0:  \n",
    "                distance = current_distance + weight\n",
    "\n",
    "                \n",
    "                if distance < distances[neighbor]:\n",
    "                    distances[neighbor] = distance\n",
    "                    previous_nodes[neighbor] = current_node\n",
    "                    heapq.heappush(priority_queue, (distance, neighbor))\n",
    "  \n",
    " "
   ]
  },
  {
   "cell_type": "code",
   "execution_count": 6,
   "id": "567ce66a",
   "metadata": {},
   "outputs": [],
   "source": [
    "\n",
    "\n",
    "def generate_new_distance_matrix(X_distance_matrix, remove_node):\n",
    "    X_distance_matrix_new = X_distance_matrix.copy()\n",
    " \n",
    "    N = len(X_distance_matrix)\n",
    "    for i in range(N):\n",
    "        for j in range(N):\n",
    "            if i == remove_node or j == remove_node:\n",
    "                X_distance_matrix_new[i,j] = np.inf\n",
    "\n",
    "    X_distance_matrix_new[remove_node,remove_node] = 0  \n",
    "    \n",
    "    return X_distance_matrix_new\n",
    "\n",
    "\n"
   ]
  },
  {
   "cell_type": "code",
   "execution_count": 7,
   "id": "ad74e5d8",
   "metadata": {},
   "outputs": [],
   "source": [
    "\n",
    "def cal_new_APSP_matrix_warm(X_distance_matrix, X_APSP_matrix, remove_node):\n",
    "    N = len(X_distance_matrix)\n",
    "    X_APSP_matrix_new = X_APSP_matrix.copy()\n",
    "    remaining_list = [i for i in np.arange(N) if i != remove_node]\n",
    "\n",
    "    need_update_list, how_many = cal_need_update_list_new_2(remove_node, X_APSP_matrix, X_distance_matrix)\n",
    "    \n",
    "    Cost = np.round(how_many/(N - 1), 3)\n",
    "    \n",
    "    print(f\"The cost for re-caculating the APSP matrix is: {Cost}.\")\n",
    "\n",
    "    X_distance_matrix_new = generate_new_distance_matrix(X_distance_matrix, remove_node)\n",
    " \n",
    "    total = 0\n",
    "    num_equal = 0\n",
    " \n",
    "    for i in remaining_list:  \n",
    "        if len(need_update_list[i]) > 0:\n",
    "            temp = dijkstra_one_to_all(X_distance_matrix_new, i, need_update_list[i], remove_node)\n",
    "            for j in need_update_list[i]:\n",
    "                X_APSP_matrix_new[i,j] = temp[j]\n",
    "                total += 1\n",
    "                if X_APSP_matrix[i,j] == X_APSP_matrix_new[i,j]:\n",
    "                    num_equal += 1\n",
    " \n",
    "    for i in range(N):\n",
    "        for j in range(N):\n",
    "            if i == remove_node or j == remove_node:\n",
    "                X_APSP_matrix_new[i,j] = np.inf\n",
    "\n",
    "    X_APSP_matrix_new[remove_node,remove_node] = 0\n",
    "    \n",
    "    print(f\"Total number of recalculation: \", total)\n",
    "    print(f\"Number of equal to previous value: \", num_equal)\n",
    "    \n",
    "    \n",
    "    return X_APSP_matrix_new \n"
   ]
  },
  {
   "cell_type": "code",
   "execution_count": 8,
   "id": "c965c4ba",
   "metadata": {},
   "outputs": [],
   "source": [
    "def cal_candidate_node_list_no_removal(i, j, X_APSP_matrix, X_distance_matrix, remove_node):\n",
    "    \n",
    "    N = len(X_distance_matrix)\n",
    "    \n",
    "    remaining_list = [k for k in np.arange(N) if k != i and k != j and k != remove_node]\n",
    "    candidate_node_list = []\n",
    "    candidate_node_list.append(i)\n",
    "    for t in remaining_list:\n",
    "        if X_APSP_matrix[i,j] < X_APSP_matrix[i,t] + X_APSP_matrix[t,j]:\n",
    "            pass\n",
    "        else:\n",
    "            candidate_node_list.append(t)\n",
    "    candidate_node_list.append(j)\n",
    " \n",
    "    return candidate_node_list"
   ]
  },
  {
   "cell_type": "code",
   "execution_count": 9,
   "id": "a42b931a",
   "metadata": {},
   "outputs": [],
   "source": [
    "\n",
    "def check_if_remove_node_affect(i, j, X_APSP_matrix, X_distance_matrix, remove_node):\n",
    "    candidate_node_list = cal_candidate_node_list_no_removal(i, j, X_APSP_matrix, X_distance_matrix, remove_node)\n",
    " \n",
    "    small_matrix = output_small_matrix(X_distance_matrix, candidate_node_list)\n",
    "    No_G_k_distance = dijkstra_one_to_one(small_matrix, 0, len(candidate_node_list) - 1)\n",
    "    if No_G_k_distance > X_APSP_matrix[i,j]:\n",
    "        return True\n",
    "    else:\n",
    "        return False"
   ]
  },
  {
   "cell_type": "code",
   "execution_count": 10,
   "id": "6a936eee",
   "metadata": {},
   "outputs": [],
   "source": [
    "def cal_need_update_list_new_2(remove_node, X_APSP_matrix, X_distance_matrix):\n",
    "    N = len(X_APSP_matrix)\n",
    "    removal = remove_node\n",
    "    remaining_list = [i for i in np.arange(N) if i != removal]\n",
    "    need_update_list = [[] for i in range(N)]\n",
    "    how_many_counter = np.zeros(N)\n",
    "    for i in remaining_list:\n",
    "        for j in remaining_list:\n",
    "            if i != j:\n",
    "                if X_APSP_matrix[i,j] >= X_APSP_matrix[i,removal] + X_APSP_matrix[removal,j]:\n",
    "                    temp = check_if_remove_node_affect(i, j, X_APSP_matrix, X_distance_matrix, remove_node)\n",
    "                    if temp:  \n",
    "                        need_update_list[i].append(j)\n",
    "                        how_many_counter[i] += 1\n",
    "    \n",
    "    how_many = np.sum(how_many_counter > 0)\n",
    "    \n",
    "    return need_update_list, how_many"
   ]
  },
  {
   "cell_type": "code",
   "execution_count": null,
   "id": "b794a01d",
   "metadata": {},
   "outputs": [],
   "source": []
  },
  {
   "cell_type": "code",
   "execution_count": 11,
   "id": "8dcd5715",
   "metadata": {},
   "outputs": [],
   "source": [
    "\n",
    "\n",
    "\n",
    "\n",
    "def output_small_matrix(X_distance_matrix, candidate_node_list):\n",
    "    small_matrix = np.zeros((len(candidate_node_list), len(candidate_node_list)))\n",
    "    for i, ii in enumerate(candidate_node_list):\n",
    "        for j, jj in enumerate(candidate_node_list):\n",
    "            small_matrix[i,j] = X_distance_matrix[ii, jj]\n",
    "    return small_matrix\n"
   ]
  },
  {
   "cell_type": "code",
   "execution_count": 12,
   "id": "baf2a684",
   "metadata": {},
   "outputs": [],
   "source": [
    "# N = 100\n",
    "\n",
    "# X_distance_matrix = create_distance_matrix(N)\n"
   ]
  },
  {
   "cell_type": "code",
   "execution_count": 13,
   "id": "bd1a3bf8",
   "metadata": {},
   "outputs": [],
   "source": [
    "remove_node = 3 \n",
    "\n",
    "X_distance_matrix = np.loadtxt(\"./data/X_100_distance_matrix.csv\", delimiter=\",\")\n",
    " \n",
    "\n",
    "X_APSP_matrix = floyd_warshall(X_distance_matrix)\n",
    "\n",
    "X_distance_matrix_new = generate_new_distance_matrix(X_distance_matrix, remove_node)"
   ]
  },
  {
   "cell_type": "code",
   "execution_count": null,
   "id": "07ac519c",
   "metadata": {},
   "outputs": [],
   "source": []
  },
  {
   "cell_type": "code",
   "execution_count": 14,
   "id": "3cb01799",
   "metadata": {},
   "outputs": [
    {
     "name": "stdout",
     "output_type": "stream",
     "text": [
      "The cost for re-caculating the APSP matrix is: 0.434.\n",
      "Total number of recalculation:  269\n",
      "Number of equal to previous value:  0\n"
     ]
    }
   ],
   "source": [
    "start = time.time()\n",
    "X_APSP_matrix_new_warm = cal_new_APSP_matrix_warm(X_distance_matrix, X_APSP_matrix, remove_node)\n",
    "end = time.time()\n",
    "\n",
    "\n",
    "time_used1_warm = end - start\n",
    "time_used1_warm = np.round(time_used1_warm, 3)"
   ]
  },
  {
   "cell_type": "code",
   "execution_count": 15,
   "id": "d7b48ac1",
   "metadata": {},
   "outputs": [
    {
     "name": "stdout",
     "output_type": "stream",
     "text": [
      "Time used: 0.172s\n"
     ]
    }
   ],
   "source": [
    "print(f\"Time used: {time_used1_warm}s\" )"
   ]
  },
  {
   "cell_type": "code",
   "execution_count": 16,
   "id": "bb74a346",
   "metadata": {},
   "outputs": [],
   "source": [
    "start = time.time()\n",
    "X_APSP_matrix_new_floyd_warshall = floyd_warshall(X_distance_matrix_new)\n",
    "end = time.time()\n",
    "\n",
    "\n",
    "time_used2_floyd = end - start\n",
    "time_used2_floyd = np.round(time_used2_floyd, 3)"
   ]
  },
  {
   "cell_type": "code",
   "execution_count": 17,
   "id": "49f88b7f",
   "metadata": {},
   "outputs": [
    {
     "name": "stdout",
     "output_type": "stream",
     "text": [
      "Time used: 1.001s\n"
     ]
    }
   ],
   "source": [
    "print(f\"Time used: {time_used2_floyd}s\" )"
   ]
  },
  {
   "cell_type": "code",
   "execution_count": 18,
   "id": "f0b7e12b",
   "metadata": {},
   "outputs": [
    {
     "name": "stdout",
     "output_type": "stream",
     "text": [
      "Ratio: 0.17\n"
     ]
    }
   ],
   "source": [
    " \n",
    "print(f\"Ratio: {np.round(time_used1_warm/time_used2_floyd, 2)}\")"
   ]
  },
  {
   "cell_type": "code",
   "execution_count": 19,
   "id": "b67f94ea",
   "metadata": {},
   "outputs": [
    {
     "name": "stdout",
     "output_type": "stream",
     "text": [
      "True\n"
     ]
    }
   ],
   "source": [
    "print(np.allclose(X_APSP_matrix_new_warm, X_APSP_matrix_new_floyd_warshall))\n"
   ]
  },
  {
   "cell_type": "code",
   "execution_count": null,
   "id": "ce867f1a",
   "metadata": {},
   "outputs": [],
   "source": []
  },
  {
   "cell_type": "code",
   "execution_count": 20,
   "id": "a8f33b58",
   "metadata": {
    "scrolled": true
   },
   "outputs": [
    {
     "name": "stdout",
     "output_type": "stream",
     "text": [
      "[ 0. 56. 56. inf 77. 45. 69. 49. 47. 49.]\n",
      "(100, 100)\n"
     ]
    }
   ],
   "source": [
    "print(X_APSP_matrix_new_warm[0,:10])\n",
    "\n",
    "print(X_APSP_matrix_new_warm.shape)"
   ]
  },
  {
   "cell_type": "code",
   "execution_count": null,
   "id": "02522753",
   "metadata": {},
   "outputs": [],
   "source": []
  }
 ],
 "metadata": {
  "kernelspec": {
   "display_name": "Python 3 (ipykernel)",
   "language": "python",
   "name": "python3"
  },
  "language_info": {
   "codemirror_mode": {
    "name": "ipython",
    "version": 3
   },
   "file_extension": ".py",
   "mimetype": "text/x-python",
   "name": "python",
   "nbconvert_exporter": "python",
   "pygments_lexer": "ipython3",
   "version": "3.12.3"
  }
 },
 "nbformat": 4,
 "nbformat_minor": 5
}
