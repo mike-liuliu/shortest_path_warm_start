{
 "cells": [
  {
   "cell_type": "code",
   "execution_count": null,
   "id": "ae288796",
   "metadata": {},
   "outputs": [],
   "source": [
    "\n",
    " "
   ]
  },
  {
   "cell_type": "code",
   "execution_count": 1,
   "id": "c01655ee",
   "metadata": {},
   "outputs": [],
   "source": [
    " \n",
    "\n",
    "exec(open(\"./funcs/tool_funcs.py\").read())\n",
    "\n"
   ]
  },
  {
   "cell_type": "code",
   "execution_count": 2,
   "id": "2846295f",
   "metadata": {},
   "outputs": [],
   "source": [
    " \n",
    "def dijkstra_one_to_all_minimax_path(distance_matrix, src, need_up_i, remove_node):\n",
    "    \n",
    "    N = len(distance_matrix)\n",
    "    dist = [np.inf] * N\n",
    "    dist[src] = 0\n",
    "    visited = [False] * N\n",
    "\n",
    "    # Priority queue: (distance, node)\n",
    "    pq = [(0, src)]\n",
    "    \n",
    "    kk = len(need_up_i)\n",
    "    counter = 0\n",
    "    visited[remove_node] = True\n",
    "\n",
    "    while pq:\n",
    "        current_dist, u = heapq.heappop(pq)\n",
    "\n",
    "        if visited[u]:\n",
    "            continue\n",
    "        visited[u] = True\n",
    "        \n",
    "        if u in need_up_i:\n",
    "            counter += 1\n",
    "            if counter == kk:\n",
    "                return np.array(dist)\n",
    " \n",
    "\n",
    "        # Update distances for neighbors\n",
    "        for v in range(N):\n",
    "            if not visited[v] and distance_matrix[u][v] > 0:\n",
    "                new_dist = max(current_dist, distance_matrix[u][v])\n",
    "                if new_dist < dist[v]:\n",
    "                    dist[v] = new_dist\n",
    "                    heapq.heappush(pq, (new_dist, v))\n",
    "\n",
    "    return np.array(dist)\n",
    "\n"
   ]
  },
  {
   "cell_type": "code",
   "execution_count": 3,
   "id": "567ce66a",
   "metadata": {},
   "outputs": [],
   "source": [
    "def cal_need_update_list_minimax_path(remove_node, X_minimax_path_matrix):\n",
    "    N = len(X_minimax_path_matrix)\n",
    "    removal = remove_node\n",
    "    remaining_list = [i for i in np.arange(N) if i != removal]\n",
    "    need_update_list = [[] for i in range(N)]\n",
    "    how_many_counter = np.zeros(N)\n",
    "    for i in remaining_list:\n",
    "        for j in remaining_list:\n",
    "            if i != j:\n",
    "                if X_minimax_path_matrix[i,j] >= max(X_minimax_path_matrix[i,removal], X_minimax_path_matrix[removal,j]):\n",
    "                    need_update_list[i].append(j)\n",
    "                    how_many_counter[i] += 1\n",
    "    \n",
    "    how_many = np.sum(how_many_counter > 0)\n",
    "    \n",
    "    return need_update_list, how_many\n",
    "\n",
    "def generate_new_distance_matrix_minimax_path(X_distance_matrix, remove_node):\n",
    "    X_distance_matrix_new = X_distance_matrix.copy()\n",
    " \n",
    "\n",
    "    N = len(X_distance_matrix)\n",
    "    for i in range(N):\n",
    "        for j in range(N):\n",
    "            if i == remove_node or j == remove_node:\n",
    "                X_distance_matrix_new[i,j] = np.inf\n",
    "\n",
    "    X_distance_matrix_new[remove_node,remove_node] = 0  \n",
    "    \n",
    "    return X_distance_matrix_new\n",
    "\n",
    "\n"
   ]
  },
  {
   "cell_type": "code",
   "execution_count": 4,
   "id": "ad74e5d8",
   "metadata": {},
   "outputs": [],
   "source": [
    "\n",
    "def cal_new_minimax_path_matrix_warm(X_distance_matrix, X_minimax_path_matrix, remove_node):\n",
    "    N = len(X_distance_matrix)\n",
    "    X_minimax_path_matrix_new = X_minimax_path_matrix.copy()\n",
    "    remaining_list = [i for i in np.arange(N) if i != remove_node]\n",
    "\n",
    "    need_update_list, how_many = cal_need_update_list_minimax_path(remove_node, X_minimax_path_matrix)\n",
    "\n",
    " \n",
    "    Cost = np.round(how_many/(N - 1), 3)\n",
    "    \n",
    "    print(f\"The cost for re-caculating the minimax path matrix is: {Cost}.\")    \n",
    "    \n",
    "    X_distance_matrix_new = generate_new_distance_matrix_minimax_path(X_distance_matrix, remove_node)\n",
    " \n",
    "    for i in remaining_list:\n",
    "        if len(need_update_list[i]) > 0:\n",
    "            temp = dijkstra_one_to_all_minimax_path(X_distance_matrix_new, i, need_update_list[i], remove_node)\n",
    "\n",
    "            for j in need_update_list[i]:\n",
    "                X_minimax_path_matrix_new[i,j] = temp[j]\n",
    " \n",
    "    for i in range(N):\n",
    "        for j in range(N):\n",
    "            if i == remove_node or j == remove_node:\n",
    "                X_minimax_path_matrix_new[i,j] = np.inf\n",
    "\n",
    "    X_minimax_path_matrix_new[remove_node,remove_node] = 0\n",
    "    \n",
    "    return X_minimax_path_matrix_new \n"
   ]
  },
  {
   "cell_type": "code",
   "execution_count": 5,
   "id": "f503f624",
   "metadata": {},
   "outputs": [],
   "source": [
    "# N = 100\n",
    "\n",
    "# X_distance_matrix = create_distance_matrix(N)"
   ]
  },
  {
   "cell_type": "code",
   "execution_count": 6,
   "id": "621c7f1c",
   "metadata": {},
   "outputs": [],
   "source": [
    "remove_node = 3 \n",
    "\n",
    "X_distance_matrix = np.loadtxt(\"./data/X_100_distance_matrix.csv\", delimiter=\",\")\n",
    " \n",
    "\n",
    "X_minimax_path_matrix = floyd_warshall_minimax_path(X_distance_matrix)\n",
    "\n",
    "X_distance_matrix_new = generate_new_distance_matrix_minimax_path(X_distance_matrix, remove_node)\n"
   ]
  },
  {
   "cell_type": "code",
   "execution_count": 7,
   "id": "341a978a",
   "metadata": {},
   "outputs": [
    {
     "name": "stdout",
     "output_type": "stream",
     "text": [
      "The cost for re-caculating the minimax path matrix is: 1.0.\n",
      "Time used: 0.408s\n"
     ]
    }
   ],
   "source": [
    "start = time.time()\n",
    "X_minimax_path_matrix_new_warm = cal_new_minimax_path_matrix_warm(X_distance_matrix, X_minimax_path_matrix, remove_node)\n",
    "end = time.time()\n",
    "\n",
    "\n",
    "time_used1_warm = end - start\n",
    "time_used1_warm = np.round(time_used1_warm, 3)\n",
    "\n",
    "print(f\"Time used: {time_used1_warm}s\" )"
   ]
  },
  {
   "cell_type": "code",
   "execution_count": 8,
   "id": "145965d9",
   "metadata": {},
   "outputs": [
    {
     "name": "stdout",
     "output_type": "stream",
     "text": [
      "Time used: 1.194s\n"
     ]
    }
   ],
   "source": [
    "\n",
    "start = time.time()\n",
    "X_minimax_path_matrix_new_floyd_warshall = floyd_warshall_minimax_path(X_distance_matrix_new)\n",
    "end = time.time()\n",
    "\n",
    "\n",
    "time_used2_floyd = end - start\n",
    "time_used2_floyd = np.round(time_used2_floyd, 3)\n",
    "\n",
    "print(f\"Time used: {time_used2_floyd}s\" )"
   ]
  },
  {
   "cell_type": "code",
   "execution_count": 9,
   "id": "3e775e1a",
   "metadata": {},
   "outputs": [
    {
     "name": "stdout",
     "output_type": "stream",
     "text": [
      "Ratio: 0.34\n"
     ]
    }
   ],
   "source": [
    "print(f\"Ratio: {np.round(time_used1_warm/time_used2_floyd, 2)}\")\n"
   ]
  },
  {
   "cell_type": "code",
   "execution_count": 10,
   "id": "f6f21da0",
   "metadata": {},
   "outputs": [
    {
     "name": "stdout",
     "output_type": "stream",
     "text": [
      "True\n"
     ]
    }
   ],
   "source": [
    "print(np.allclose(X_minimax_path_matrix_new_warm, X_minimax_path_matrix_new_floyd_warshall))\n"
   ]
  },
  {
   "cell_type": "code",
   "execution_count": 12,
   "id": "a9806f0a",
   "metadata": {},
   "outputs": [
    {
     "data": {
      "text/plain": [
       "array([11.,  0., 15., inf, 24., 18., 18.,  8., 12., 17.,  8., 17.,  8.,\n",
       "        8., 11.,  8., 17., 17.,  9., 11., 10., 15., 11., 15.,  9.,  9.,\n",
       "       15., 17., 21.,  8., 14., 13., 17., 11.,  8., 14., 29.,  8., 18.,\n",
       "       39.,  8.,  9.,  8., 21., 18., 14.,  8., 47., 10., 16., 17.,  8.,\n",
       "        8., 18., 21.,  8., 13., 21., 18., 10.,  8.,  8., 19.,  8., 42.,\n",
       "       17., 21., 14., 14.,  8., 15., 15., 13.,  8., 10.,  8.,  8., 17.,\n",
       "       18., 24., 20., 28., 10., 10., 18.,  8., 18., 27., 10., 22., 15.,\n",
       "       17., 26.,  8.,  9., 11., 18., 13.,  8., 11.])"
      ]
     },
     "execution_count": 12,
     "metadata": {},
     "output_type": "execute_result"
    }
   ],
   "source": [
    "X_minimax_path_matrix_new_warm[1]"
   ]
  },
  {
   "cell_type": "code",
   "execution_count": null,
   "id": "68280e12",
   "metadata": {},
   "outputs": [],
   "source": []
  }
 ],
 "metadata": {
  "kernelspec": {
   "display_name": "Python 3 (ipykernel)",
   "language": "python",
   "name": "python3"
  },
  "language_info": {
   "codemirror_mode": {
    "name": "ipython",
    "version": 3
   },
   "file_extension": ".py",
   "mimetype": "text/x-python",
   "name": "python",
   "nbconvert_exporter": "python",
   "pygments_lexer": "ipython3",
   "version": "3.12.3"
  }
 },
 "nbformat": 4,
 "nbformat_minor": 5
}
