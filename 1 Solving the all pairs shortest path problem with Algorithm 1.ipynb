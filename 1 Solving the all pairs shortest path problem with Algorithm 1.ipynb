{
 "cells": [
  {
   "cell_type": "code",
   "execution_count": null,
   "id": "e919a87e",
   "metadata": {},
   "outputs": [],
   "source": []
  },
  {
   "cell_type": "code",
   "execution_count": 1,
   "id": "28860ca9",
   "metadata": {},
   "outputs": [],
   "source": [
    "# Algorithm 1 (MMJ distance by recursion) can be revised to solve the all pairs shortest path problem. \n",
    "# By replacing the \"max\" operator with the \"+\" operator."
   ]
  },
  {
   "cell_type": "code",
   "execution_count": 2,
   "id": "b5de4469",
   "metadata": {},
   "outputs": [],
   "source": [
    "exec(open(\"./funcs/tool_funcs.py\").read())\n"
   ]
  },
  {
   "cell_type": "code",
   "execution_count": 3,
   "id": "5faa263b",
   "metadata": {},
   "outputs": [],
   "source": [
    "def shortest_path_n_to_r(distance_matrix, shortest_path_matrix, n, r):\n",
    "    max_jump_list = []\n",
    "    for t in range(n):\n",
    "        m_jump =  distance_matrix[n,t] + shortest_path_matrix[t,r]\n",
    "        max_jump_list.append(m_jump)\n",
    "    return np.min(max_jump_list)\n",
    "\n",
    "def shortest_path_r_to_n(distance_matrix, shortest_path_matrix, n, r):\n",
    "    max_jump_list = []\n",
    "    for t in range(n):\n",
    "        m_jump =  shortest_path_matrix[r,t] + distance_matrix[t, n] \n",
    "        max_jump_list.append(m_jump)\n",
    "    return np.min(max_jump_list)\n",
    "\n",
    "     \n",
    "def cal_n_shortest_path(distance_matrix, shortest_path_matrix, n):\n",
    "    for r in range(n):\n",
    "        shortest_path_matrix[n,r] = shortest_path_n_to_r(distance_matrix, shortest_path_matrix, n, r)\n",
    "        shortest_path_matrix[r,n] = shortest_path_r_to_n(distance_matrix, shortest_path_matrix, n, r)\n",
    "        \n",
    "    for i in range(n):        \n",
    "        for j in range(n):\n",
    "            if i < j:\n",
    "                shortest_path_matrix[i,j] =  update_shortest_path_ij(distance_matrix, shortest_path_matrix, n, i, j)\n",
    "                shortest_path_matrix[j,i] =  update_shortest_path_ij(distance_matrix, shortest_path_matrix, n, j, i)\n",
    "                \n",
    "def update_shortest_path_ij(distance_matrix, shortest_path_matrix, n, i, j):\n",
    "    m1 = shortest_path_matrix[i,j]\n",
    "    m2 =  shortest_path_matrix[i,n] + shortest_path_matrix[n,j] \n",
    "    return np.min((m1,m2))\n",
    "\n",
    "def cal_shortest_path_matrix_algo_1_python(distance_matrix):\n",
    "    \n",
    "  \n",
    "    N = len(distance_matrix)\n",
    "   \n",
    "    shortest_path_matrix = np.zeros((N,N))\n",
    "\n",
    "    shortest_path_matrix[0,1] = distance_matrix[0,1]\n",
    "    shortest_path_matrix[1,0] = distance_matrix[1,0]\n",
    " \n",
    "    for kk in range(2,N):\n",
    "        cal_n_shortest_path(distance_matrix, shortest_path_matrix, kk)\n",
    "    return shortest_path_matrix"
   ]
  },
  {
   "cell_type": "code",
   "execution_count": 4,
   "id": "562c9604",
   "metadata": {},
   "outputs": [],
   "source": [
    "N = 100\n",
    "\n",
    "dist_matrix = create_distance_matrix(N)"
   ]
  },
  {
   "cell_type": "code",
   "execution_count": 5,
   "id": "f7fa1eb6",
   "metadata": {},
   "outputs": [
    {
     "name": "stdout",
     "output_type": "stream",
     "text": [
      "Time used: 1.146s\n"
     ]
    }
   ],
   "source": [
    "start = time.time()\n",
    "shortest_path_matrix_floyd_warshall = floyd_warshall(dist_matrix)\n",
    "end = time.time()\n",
    "\n",
    " \n",
    "time_used = end - start\n",
    "time_used = np.round(time_used, 3)\n",
    "\n",
    "print(f\"Time used: {time_used}s\" )"
   ]
  },
  {
   "cell_type": "code",
   "execution_count": 6,
   "id": "0a3bfee8",
   "metadata": {},
   "outputs": [
    {
     "name": "stdout",
     "output_type": "stream",
     "text": [
      "Time used: 2.431s\n"
     ]
    }
   ],
   "source": [
    "start = time.time()\n",
    "shortest_path_matrix_algo_1 = cal_shortest_path_matrix_algo_1_python(dist_matrix)\n",
    "end = time.time()\n",
    "\n",
    " \n",
    "time_used = end - start\n",
    "time_used = np.round(time_used, 3)\n",
    "\n",
    "print(f\"Time used: {time_used}s\" )"
   ]
  },
  {
   "cell_type": "code",
   "execution_count": null,
   "id": "3d8465a8",
   "metadata": {},
   "outputs": [],
   "source": []
  },
  {
   "cell_type": "code",
   "execution_count": 7,
   "id": "b1032168",
   "metadata": {
    "scrolled": true
   },
   "outputs": [
    {
     "name": "stdout",
     "output_type": "stream",
     "text": [
      "True\n",
      "0.0\n"
     ]
    }
   ],
   "source": [
    "print(np.allclose(shortest_path_matrix_algo_1, shortest_path_matrix_floyd_warshall)) \n",
    "print(np.sum(np.abs(shortest_path_matrix_algo_1 - shortest_path_matrix_floyd_warshall))) \n"
   ]
  },
  {
   "cell_type": "code",
   "execution_count": 8,
   "id": "d369a7cf",
   "metadata": {},
   "outputs": [],
   "source": [
    "# Although Algorithm 1 (MMJ distance by recursion) is slower than the Floyd-Warshall algorithm,\n",
    "# it has the merit of warm start."
   ]
  },
  {
   "cell_type": "code",
   "execution_count": null,
   "id": "714ff4ca",
   "metadata": {},
   "outputs": [],
   "source": []
  }
 ],
 "metadata": {
  "kernelspec": {
   "display_name": "Python 3 (ipykernel)",
   "language": "python",
   "name": "python3"
  },
  "language_info": {
   "codemirror_mode": {
    "name": "ipython",
    "version": 3
   },
   "file_extension": ".py",
   "mimetype": "text/x-python",
   "name": "python",
   "nbconvert_exporter": "python",
   "pygments_lexer": "ipython3",
   "version": "3.12.3"
  }
 },
 "nbformat": 4,
 "nbformat_minor": 5
}
