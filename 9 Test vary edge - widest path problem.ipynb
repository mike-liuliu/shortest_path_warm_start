{
 "cells": [
  {
   "cell_type": "code",
   "execution_count": 1,
   "id": "16ce9664",
   "metadata": {},
   "outputs": [],
   "source": [
    "exec(open(\"./funcs/tool_funcs.py\").read())\n",
    "\n"
   ]
  },
  {
   "cell_type": "code",
   "execution_count": 2,
   "id": "6fb51a23",
   "metadata": {},
   "outputs": [],
   "source": [
    "# For the widest path problem, we need a Max-Heap, rather than a Min-Heap.\n",
    " \n",
    "\n",
    "def dijkstra_one_to_all_widest_path(distance_matrix, src, need_up_i, remove_node):\n",
    "    \n",
    "    N = len(distance_matrix)\n",
    "    \n",
    "#     import pdb;pdb.set_trace()\n",
    "    \n",
    "    dist = [0] * N\n",
    "    dist[src] = np.inf\n",
    "    visited = [False] * N\n",
    " \n",
    "    # For the widest path problem, we need a Max-Heap, rather than a Min-Heap.\n",
    "    pq = [(-np.inf, src)]\n",
    "    \n",
    "    kk = len(need_up_i)\n",
    "    counter = 0\n",
    "    visited[remove_node] = True\n",
    "\n",
    "    while pq:\n",
    "        current_dist, u = heapq.heappop(pq)\n",
    "        # For the widest path problem, we need a Max-Heap, rather than a Min-Heap.\n",
    "        current_dist = -current_dist\n",
    "\n",
    "        if visited[u]:\n",
    "            continue\n",
    "        visited[u] = True\n",
    "        \n",
    "        if u in need_up_i:\n",
    "            counter += 1\n",
    "            if counter == kk:\n",
    "                \n",
    "                return np.array(dist)\n",
    " \n",
    "\n",
    "        # Update distances for neighbors\n",
    "        for v in range(N):\n",
    "            if not visited[v] and distance_matrix[u][v] < np.inf:\n",
    "                new_dist = min(current_dist, distance_matrix[u][v])\n",
    "                if new_dist > dist[v]:\n",
    "                    dist[v] = new_dist\n",
    "                    # For the widest path problem, we need a Max-Heap, rather than a Min-Heap.\n",
    "                    heapq.heappush(pq, (-new_dist, v))\n",
    "\n",
    "    return np.array(dist)\n",
    "\n"
   ]
  },
  {
   "cell_type": "code",
   "execution_count": 3,
   "id": "d38b313a",
   "metadata": {},
   "outputs": [],
   "source": [
    " def cal_need_update_list_widest_path(remove_node, X_widest_path_matrix):\n",
    "    N = len(X_widest_path_matrix)\n",
    "    removal = remove_node\n",
    "    remaining_list = [i for i in np.arange(N) if i != removal]\n",
    "    need_update_list = [[] for i in range(N)]\n",
    "    how_many_counter = np.zeros(N)\n",
    "    for i in remaining_list:\n",
    "        for j in remaining_list:\n",
    "            if i != j:\n",
    "                if X_widest_path_matrix[i,j] <= min(X_widest_path_matrix[i,removal], X_widest_path_matrix[removal,j]):\n",
    "                    need_update_list[i].append(j)\n",
    "                    how_many_counter[i] += 1\n",
    "    \n",
    "    how_many = np.sum(how_many_counter > 0)\n",
    "    \n",
    "    \n",
    "    return need_update_list, how_many\n"
   ]
  },
  {
   "cell_type": "code",
   "execution_count": 4,
   "id": "cc40fce6",
   "metadata": {},
   "outputs": [],
   "source": [
    "def generate_new_distance_matrix_widest_path(X_distance_matrix, remove_node):\n",
    "    X_distance_matrix_new = X_distance_matrix.copy()\n",
    " \n",
    "\n",
    "    N = len(X_distance_matrix)\n",
    "    for i in range(N):\n",
    "        for j in range(N):\n",
    "            if i == remove_node or j == remove_node:\n",
    "                X_distance_matrix_new[i,j] = 0\n",
    "\n",
    "    X_distance_matrix_new[remove_node,remove_node] = np.inf  \n",
    "    \n",
    "    return X_distance_matrix_new"
   ]
  },
  {
   "cell_type": "code",
   "execution_count": 5,
   "id": "567ce66a",
   "metadata": {},
   "outputs": [],
   "source": [
    "\n",
    "def cal_new_widest_path_matrix_warm(X_distance_matrix, X_widest_path_matrix, remove_node):\n",
    "    N = len(X_distance_matrix)\n",
    "    X_widest_path_matrix_new = X_widest_path_matrix.copy()\n",
    "    remaining_list = [i for i in np.arange(N) if i != remove_node]\n",
    "\n",
    "    need_update_list, how_many = cal_need_update_list_widest_path(remove_node, X_widest_path_matrix)\n",
    "    \n",
    "    Cost = np.round(how_many/(N - 1), 3)\n",
    "    \n",
    "    print(\"Cost: \", Cost)\n",
    "\n",
    "    X_distance_matrix_new = generate_new_distance_matrix_widest_path(X_distance_matrix, remove_node)\n",
    " \n",
    "    for i in remaining_list:       \n",
    "        if len(need_update_list[i]) > 0:\n",
    "            temp = dijkstra_one_to_all_widest_path(X_distance_matrix_new, i, need_update_list[i], remove_node)\n",
    "\n",
    "            for j in need_update_list[i]:\n",
    "                X_widest_path_matrix_new[i,j] = temp[j]\n",
    " \n",
    "            \n",
    " \n",
    "    for i in range(N):\n",
    "        for j in range(N):\n",
    "            if i == remove_node or j == remove_node:\n",
    "                X_widest_path_matrix_new[i,j] = 0\n",
    "\n",
    "    X_widest_path_matrix_new[remove_node,remove_node] = np.inf\n",
    "    \n",
    "    return X_widest_path_matrix_new \n"
   ]
  },
  {
   "cell_type": "code",
   "execution_count": 6,
   "id": "bbf11671",
   "metadata": {},
   "outputs": [],
   "source": [
    "def widest_path_n_to_r_new(distance_matrix, widest_path_matrix, remaining_list, r, remove_node):\n",
    "  \n",
    "    max_jump_list = []\n",
    "    for t in remaining_list:\n",
    "        m_jump =  min(distance_matrix[remove_node,t], widest_path_matrix[t,r])\n",
    "        max_jump_list.append(m_jump)\n",
    "    return np.max(max_jump_list)\n",
    "\n",
    "def widest_path_r_to_n_new(distance_matrix, widest_path_matrix, remaining_list, r, remove_node):\n",
    "    max_jump_list = []\n",
    "    for t in remaining_list:\n",
    "        m_jump =  min(widest_path_matrix[r,t], distance_matrix[t, remove_node]) \n",
    "        max_jump_list.append(m_jump)\n",
    "    return np.max(max_jump_list)\n",
    "\n",
    "     \n",
    "def cal_n_widest_path_new(distance_matrix, widest_path_matrix, remove_node, remaining_list):\n",
    "    for r in remaining_list:\n",
    "        widest_path_matrix[remove_node, r] = widest_path_n_to_r_new(distance_matrix, widest_path_matrix, remaining_list, r, remove_node)\n",
    "        widest_path_matrix[r, remove_node] = widest_path_r_to_n_new(distance_matrix, widest_path_matrix, remaining_list, r, remove_node)\n",
    "        \n",
    "    for i in remaining_list:        \n",
    "        for j in remaining_list:\n",
    "            if i < j:\n",
    "                widest_path_matrix[i,j] =  update_widest_path_ij_new(distance_matrix, widest_path_matrix, remove_node, i, j)\n",
    "                widest_path_matrix[j,i] =  update_widest_path_ij_new(distance_matrix, widest_path_matrix, remove_node, j, i)\n",
    "                \n",
    "def update_widest_path_ij_new(distance_matrix, widest_path_matrix, remove_node, i,j):\n",
    "    m1 = widest_path_matrix[i,j]\n",
    "    m2 =  min(widest_path_matrix[i,remove_node], widest_path_matrix[remove_node,j])\n",
    "    return np.max((m1,m2))\n",
    "\n"
   ]
  },
  {
   "cell_type": "code",
   "execution_count": 7,
   "id": "5fe00640",
   "metadata": {},
   "outputs": [],
   "source": [
    "def cal_which_to_remove(X_widest_path_matrix, edge_nodes):\n",
    "   \n",
    "    _, how_many0 = cal_need_update_list_widest_path(edge_nodes[0], X_widest_path_matrix)\n",
    "    _, how_many1 = cal_need_update_list_widest_path(edge_nodes[1], X_widest_path_matrix)\n",
    "    if how_many0 < how_many1:\n",
    "        remove_node = edge_nodes[0]\n",
    "    else:\n",
    "        remove_node = edge_nodes[1]\n",
    "    # print(how_many0, how_many1, edge_nodes, remove_node)\n",
    "    return remove_node\n",
    "    \n",
    "    \n",
    "    "
   ]
  },
  {
   "cell_type": "code",
   "execution_count": 8,
   "id": "f3908cfe",
   "metadata": {},
   "outputs": [],
   "source": [
    "\n",
    "def cal_widest_path_matrix_after_graph_update(X_distance_matrix, X_widest_path_matrix, edge_nodes, X_distance_matrix_updated):\n",
    "    \n",
    "    N = len(X_distance_matrix)\n",
    "    \n",
    "    remove_node = cal_which_to_remove(X_widest_path_matrix, edge_nodes)\n",
    "\n",
    "    X_widest_path_matrix_updated = cal_new_widest_path_matrix_warm(X_distance_matrix, X_widest_path_matrix, remove_node)\n",
    " \n",
    "    remaining_list = [i for i in np.arange(N) if i != remove_node]\n",
    "    \n",
    "    cal_n_widest_path_new(X_distance_matrix_updated, X_widest_path_matrix_updated, remove_node, remaining_list)\n",
    "    \n",
    "    return X_widest_path_matrix_updated\n",
    "\n",
    " \n",
    "    "
   ]
  },
  {
   "cell_type": "code",
   "execution_count": null,
   "id": "2a27b616",
   "metadata": {},
   "outputs": [],
   "source": [
    " "
   ]
  },
  {
   "cell_type": "code",
   "execution_count": null,
   "id": "d605abec",
   "metadata": {},
   "outputs": [],
   "source": [
    "\n"
   ]
  },
  {
   "cell_type": "code",
   "execution_count": 9,
   "id": "e686f4e9",
   "metadata": {},
   "outputs": [],
   "source": [
    "# N = 100\n",
    "\n",
    "# X_distance_matrix = create_distance_matrix(N)"
   ]
  },
  {
   "cell_type": "code",
   "execution_count": 10,
   "id": "b8351679",
   "metadata": {},
   "outputs": [],
   "source": [
    "X_distance_matrix = np.loadtxt(\"./data/X_100_distance_matrix.csv\", delimiter=\",\")\n",
    " "
   ]
  },
  {
   "cell_type": "code",
   "execution_count": 11,
   "id": "70860a08",
   "metadata": {},
   "outputs": [],
   "source": [
    "\n",
    "# For the widest path problem, a node's bandwidth to itself should be infinity.\n",
    "\n",
    "\n",
    "N = len(X_distance_matrix)\n",
    "for i in range(N):\n",
    "    X_distance_matrix[i,i] = np.inf"
   ]
  },
  {
   "cell_type": "code",
   "execution_count": 12,
   "id": "f627edc7",
   "metadata": {},
   "outputs": [],
   "source": [
    "\n",
    "edge_nodes = [3, 9]\n",
    "\n",
    "edge_weight = 50    \n",
    "\n",
    "X_distance_matrix_new = X_distance_matrix.copy()\n",
    "X_distance_matrix_new[edge_nodes[0],edge_nodes[1]] = edge_weight \n",
    "\n",
    "X_widest_path_matrix = floyd_warshall_widest_path(X_distance_matrix)\n"
   ]
  },
  {
   "cell_type": "code",
   "execution_count": 13,
   "id": "d1676973",
   "metadata": {},
   "outputs": [
    {
     "name": "stdout",
     "output_type": "stream",
     "text": [
      "Cost:  1.0\n"
     ]
    }
   ],
   "source": [
    "\n",
    "start = time.time()\n",
    "X_widest_path_matrix_new_warm = cal_widest_path_matrix_after_graph_update(X_distance_matrix, X_widest_path_matrix, edge_nodes, X_distance_matrix_new)\n",
    "end = time.time()\n",
    "\n",
    "\n",
    "time_used1_warm = end - start\n",
    "time_used1_warm = np.round(time_used1_warm, 3)"
   ]
  },
  {
   "cell_type": "code",
   "execution_count": 14,
   "id": "6e0bdbd1",
   "metadata": {},
   "outputs": [
    {
     "name": "stdout",
     "output_type": "stream",
     "text": [
      "Time used: 0.492s\n"
     ]
    }
   ],
   "source": [
    "print(f\"Time used: {time_used1_warm}s\" )\n"
   ]
  },
  {
   "cell_type": "code",
   "execution_count": 15,
   "id": "dc29d921",
   "metadata": {},
   "outputs": [],
   "source": [
    "start = time.time()\n",
    "X_widest_path_matrix_new_floyd_warshall = floyd_warshall_widest_path(X_distance_matrix_new)\n",
    "end = time.time()\n",
    "\n",
    "\n",
    "time_used2_floyd = end - start\n",
    "time_used2_floyd = np.round(time_used2_floyd, 3)\n"
   ]
  },
  {
   "cell_type": "code",
   "execution_count": 16,
   "id": "41ce4971",
   "metadata": {},
   "outputs": [
    {
     "name": "stdout",
     "output_type": "stream",
     "text": [
      "Time used: 1.153s\n"
     ]
    }
   ],
   "source": [
    "print(f\"Time used: {time_used2_floyd}s\" )\n"
   ]
  },
  {
   "cell_type": "code",
   "execution_count": 17,
   "id": "2df51958",
   "metadata": {},
   "outputs": [
    {
     "name": "stdout",
     "output_type": "stream",
     "text": [
      "True\n"
     ]
    }
   ],
   "source": [
    "print(np.allclose(X_widest_path_matrix_new_warm, X_widest_path_matrix_new_floyd_warshall))\n"
   ]
  },
  {
   "cell_type": "code",
   "execution_count": 18,
   "id": "1efc2460",
   "metadata": {},
   "outputs": [
    {
     "name": "stdout",
     "output_type": "stream",
     "text": [
      "Ratio: 0.43\n"
     ]
    }
   ],
   "source": [
    "print(f\"Ratio: {np.round(time_used1_warm/time_used2_floyd, 2)}\")\n"
   ]
  },
  {
   "cell_type": "code",
   "execution_count": 19,
   "id": "78ba9d8c",
   "metadata": {},
   "outputs": [
    {
     "data": {
      "text/plain": [
       "array([ 984.,   inf,  984.,  960.,  982.,  984.,  984.,  984.,  982.,\n",
       "        984.,  975.,  984.,  984.,  983.,  950.,  984.,  984.,  984.,\n",
       "        984.,  984.,  981.,  984.,  984.,  976.,  984.,  984.,  984.,\n",
       "        984.,  977.,  984.,  960.,  982.,  984.,  983., 1000.,  984.,\n",
       "        984.,  984.,  976.,  981.,  982.,  984.,  984.,  984.,  970.,\n",
       "        984.,  972.,  984.,  984.,  984.,  984.,  984.,  984.,  976.,\n",
       "        980.,  984.,  984.,  984.,  973.,  984.,  984.,  984.,  984.,\n",
       "        984.,  984.,  984.,  984.,  975.,  983.,  984.,  980.,  984.,\n",
       "        984.,  976.,  984.,  984.,  984.,  984.,  984.,  981.,  984.,\n",
       "        984.,  980.,  984.,  982.,  984.,  965.,  984.,  984.,  984.,\n",
       "        975.,  984.,  984.,  983.,  984.,  984.,  984.,  984.,  984.,\n",
       "        984.])"
      ]
     },
     "execution_count": 19,
     "metadata": {},
     "output_type": "execute_result"
    }
   ],
   "source": [
    "X_widest_path_matrix_new_warm[1]\n"
   ]
  },
  {
   "cell_type": "code",
   "execution_count": null,
   "id": "65da867d",
   "metadata": {},
   "outputs": [],
   "source": []
  },
  {
   "cell_type": "code",
   "execution_count": null,
   "id": "fe43f3b1",
   "metadata": {},
   "outputs": [],
   "source": []
  }
 ],
 "metadata": {
  "kernelspec": {
   "display_name": "Python 3 (ipykernel)",
   "language": "python",
   "name": "python3"
  },
  "language_info": {
   "codemirror_mode": {
    "name": "ipython",
    "version": 3
   },
   "file_extension": ".py",
   "mimetype": "text/x-python",
   "name": "python",
   "nbconvert_exporter": "python",
   "pygments_lexer": "ipython3",
   "version": "3.12.3"
  }
 },
 "nbformat": 4,
 "nbformat_minor": 5
}
