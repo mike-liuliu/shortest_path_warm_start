{
 "cells": [
  {
   "cell_type": "code",
   "execution_count": 1,
   "id": "ae288796",
   "metadata": {},
   "outputs": [],
   "source": [
    "\n",
    "# For the widest path problem, we need a Max-Heap, rather than a Min-Heap. \n",
    "# We use some techniques to convert a Min-Heap into a Max-Heap.\n",
    "\n",
    "\n"
   ]
  },
  {
   "cell_type": "code",
   "execution_count": 2,
   "id": "c01655ee",
   "metadata": {},
   "outputs": [],
   "source": [
    "exec(open(\"./funcs/tool_funcs.py\").read())\n",
    "\n",
    "\n"
   ]
  },
  {
   "cell_type": "code",
   "execution_count": 3,
   "id": "6c37504c",
   "metadata": {},
   "outputs": [],
   "source": [
    " \n",
    "\n",
    "def dijkstra_one_to_all_widest_path(distance_matrix, src, need_up_i, remove_node):\n",
    "    \n",
    "    N = len(distance_matrix)\n",
    " \n",
    "    dist = [0] * N\n",
    "    dist[src] = np.inf\n",
    "    visited = [False] * N\n",
    " \n",
    "    # For the widest path problem, we need a Max-Heap, rather than a Min-Heap.\n",
    "    pq = [(-np.inf, src)]\n",
    "    \n",
    "    kk = len(need_up_i)\n",
    "    counter = 0\n",
    "    visited[remove_node] = True\n",
    "\n",
    "    while pq:\n",
    "        current_dist, u = heapq.heappop(pq)\n",
    "        # For the widest path problem, we need a Max-Heap, rather than a Min-Heap.\n",
    "        current_dist = -current_dist\n",
    "\n",
    "        if visited[u]:\n",
    "            continue\n",
    "        visited[u] = True\n",
    "        \n",
    "        if u in need_up_i:\n",
    "            counter += 1\n",
    "            if counter == kk:\n",
    "                \n",
    "                return np.array(dist)\n",
    " \n",
    "\n",
    "        # Update distances for neighbors\n",
    "        for v in range(N):\n",
    "            if not visited[v] and distance_matrix[u][v] < np.inf:\n",
    "                new_dist = min(current_dist, distance_matrix[u][v])\n",
    "                if new_dist > dist[v]:\n",
    "                    dist[v] = new_dist\n",
    "                    # For the widest path problem, we need a Max-Heap, rather than a Min-Heap.\n",
    "                    heapq.heappush(pq, (-new_dist, v))\n",
    "\n",
    "    return np.array(dist)\n",
    "\n"
   ]
  },
  {
   "cell_type": "code",
   "execution_count": 4,
   "id": "e7c97582",
   "metadata": {},
   "outputs": [],
   "source": [
    "def cal_need_update_list_widest_path(remove_node, X_widest_path_matrix):\n",
    "    N = len(X_widest_path_matrix)\n",
    "\n",
    "    removal = remove_node\n",
    "    remaining_list = [i for i in np.arange(N) if i != removal]\n",
    "    need_update_list = [[] for i in range(N)]\n",
    "    how_many_counter = np.zeros(N)\n",
    "    for i in remaining_list:\n",
    "        for j in remaining_list:\n",
    "            if i != j:\n",
    "                if X_widest_path_matrix[i,j] <= min(X_widest_path_matrix[i,removal], X_widest_path_matrix[removal,j]):\n",
    "                    need_update_list[i].append(j)\n",
    "                    how_many_counter[i] += 1\n",
    "    \n",
    "    how_many = np.sum(how_many_counter > 0)\n",
    "    \n",
    "    \n",
    "    return need_update_list, how_many"
   ]
  },
  {
   "cell_type": "code",
   "execution_count": 5,
   "id": "567ce66a",
   "metadata": {},
   "outputs": [],
   "source": [
    "def generate_new_distance_matrix_widest_path(X_distance_matrix, remove_node):\n",
    "    X_distance_matrix_new = X_distance_matrix.copy()\n",
    " \n",
    "\n",
    "    N = len(X_distance_matrix)\n",
    "    for i in range(N):\n",
    "        for j in range(N):\n",
    "            if i == remove_node or j == remove_node:\n",
    "                X_distance_matrix_new[i,j] = 0\n",
    "\n",
    "    X_distance_matrix_new[remove_node,remove_node] = np.inf  \n",
    "    \n",
    "    return X_distance_matrix_new"
   ]
  },
  {
   "cell_type": "code",
   "execution_count": 6,
   "id": "ad74e5d8",
   "metadata": {},
   "outputs": [],
   "source": [
    "\n",
    "def cal_new_widest_path_matrix_warm(X_distance_matrix, X_widest_path_matrix, remove_node):\n",
    "    N = len(X_distance_matrix)\n",
    "    X_widest_path_matrix_new = X_widest_path_matrix.copy()\n",
    "    remaining_list = [i for i in np.arange(N) if i != remove_node]\n",
    "\n",
    "    need_update_list, how_many = cal_need_update_list_widest_path(remove_node, X_widest_path_matrix)\n",
    "\n",
    " \n",
    "    Cost = np.round(how_many/(N - 1), 3)\n",
    "    \n",
    "    print(f\"The cost for re-caculating the widest path matrix is: {Cost}.\")   \n",
    "    \n",
    "    \n",
    "    X_distance_matrix_new = generate_new_distance_matrix_widest_path(X_distance_matrix, remove_node)\n",
    " \n",
    "    for i in remaining_list:\n",
    "        if len(need_update_list[i]) > 0:\n",
    "            temp = dijkstra_one_to_all_widest_path(X_distance_matrix_new, i, need_update_list[i], remove_node)\n",
    "            for j in need_update_list[i]:\n",
    "                X_widest_path_matrix_new[i,j] = temp[j]\n",
    " \n",
    "    for i in range(N):\n",
    "        for j in range(N):\n",
    "            if i == remove_node or j == remove_node:\n",
    "                X_widest_path_matrix_new[i,j] = 0\n",
    "\n",
    "    X_widest_path_matrix_new[remove_node,remove_node] = np.inf\n",
    "    \n",
    "    return X_widest_path_matrix_new \n"
   ]
  },
  {
   "cell_type": "code",
   "execution_count": 7,
   "id": "7d43d41c",
   "metadata": {},
   "outputs": [],
   "source": [
    "# N = 100\n",
    "\n",
    "# X_distance_matrix = create_distance_matrix(N)\n"
   ]
  },
  {
   "cell_type": "code",
   "execution_count": 8,
   "id": "7408ea1c",
   "metadata": {},
   "outputs": [],
   "source": [
    "remove_node = 3 \n",
    "\n",
    "X_distance_matrix = np.loadtxt(\"./data/X_100_distance_matrix.csv\", delimiter=\",\")\n",
    " "
   ]
  },
  {
   "cell_type": "code",
   "execution_count": 9,
   "id": "dadaeea6",
   "metadata": {},
   "outputs": [],
   "source": [
    "# For the widest path problem, a node's bandwidth to itself should be infinity.\n",
    "\n",
    "\n",
    "N = len(X_distance_matrix)\n",
    "for i in range(N):\n",
    "    X_distance_matrix[i,i] = np.inf\n",
    "\n",
    "\n"
   ]
  },
  {
   "cell_type": "code",
   "execution_count": 10,
   "id": "47d87121",
   "metadata": {},
   "outputs": [],
   "source": [
    "X_widest_path_matrix = floyd_warshall_widest_path(X_distance_matrix)\n",
    "\n",
    "X_distance_matrix_new = generate_new_distance_matrix_widest_path(X_distance_matrix, remove_node)\n",
    "\n"
   ]
  },
  {
   "cell_type": "code",
   "execution_count": 11,
   "id": "c27ff039",
   "metadata": {},
   "outputs": [
    {
     "name": "stdout",
     "output_type": "stream",
     "text": [
      "The cost for re-caculating the widest path matrix is: 1.0.\n",
      "Time used: 0.4s\n"
     ]
    }
   ],
   "source": [
    "\n",
    "start = time.time()\n",
    "X_widest_path_matrix_new_warm = cal_new_widest_path_matrix_warm(X_distance_matrix, X_widest_path_matrix, remove_node)\n",
    "end = time.time()\n",
    "\n",
    "\n",
    "time_used1_warm = end - start\n",
    "time_used1_warm = np.round(time_used1_warm, 3)\n",
    "\n",
    "print(f\"Time used: {time_used1_warm}s\" )"
   ]
  },
  {
   "cell_type": "code",
   "execution_count": 12,
   "id": "3cc3b8ec",
   "metadata": {},
   "outputs": [
    {
     "name": "stdout",
     "output_type": "stream",
     "text": [
      "Time used: 1.153s\n"
     ]
    }
   ],
   "source": [
    "\n",
    "start = time.time()\n",
    "X_widest_path_matrix_new_floyd_warshall = floyd_warshall_widest_path(X_distance_matrix_new)\n",
    "end = time.time()\n",
    "\n",
    "\n",
    "time_used2_floyd = end - start\n",
    "time_used2_floyd = np.round(time_used2_floyd, 3)\n",
    "\n",
    "print(f\"Time used: {time_used2_floyd}s\" )"
   ]
  },
  {
   "cell_type": "code",
   "execution_count": 13,
   "id": "52f74750",
   "metadata": {
    "scrolled": true
   },
   "outputs": [
    {
     "name": "stdout",
     "output_type": "stream",
     "text": [
      "Ratio: 0.35\n"
     ]
    }
   ],
   "source": [
    "print(f\"Ratio: {np.round(time_used1_warm/time_used2_floyd, 2)}\")\n"
   ]
  },
  {
   "cell_type": "code",
   "execution_count": 14,
   "id": "b9be4761",
   "metadata": {},
   "outputs": [
    {
     "name": "stdout",
     "output_type": "stream",
     "text": [
      "True\n"
     ]
    }
   ],
   "source": [
    "print(np.allclose(X_widest_path_matrix_new_warm, X_widest_path_matrix_new_floyd_warshall))\n"
   ]
  },
  {
   "cell_type": "code",
   "execution_count": 15,
   "id": "3fdd51ad",
   "metadata": {},
   "outputs": [
    {
     "data": {
      "text/plain": [
       "array([989., 980.,  inf,   0., 982., 985., 987., 989., 982., 989., 975.,\n",
       "       987., 989., 983., 950., 985., 986., 989., 984., 984., 981., 987.,\n",
       "       989., 976., 986., 989., 987., 989., 977., 989., 960., 982., 989.,\n",
       "       983., 985., 986., 987., 987., 976., 981., 982., 984., 986., 989.,\n",
       "       970., 987., 972., 995., 987., 989., 989., 988., 986., 976., 980.,\n",
       "       988., 986., 988., 973., 987., 987., 987., 988., 985., 997., 989.,\n",
       "       985., 975., 983., 984., 980., 986., 989., 976., 986., 989., 984.,\n",
       "       989., 989., 981., 986., 989., 980., 988., 982., 987., 965., 987.,\n",
       "       986., 986., 975., 989., 989., 983., 989., 987., 989., 984., 990.,\n",
       "       987.])"
      ]
     },
     "execution_count": 15,
     "metadata": {},
     "output_type": "execute_result"
    }
   ],
   "source": [
    "X_widest_path_matrix_new_warm[2]"
   ]
  },
  {
   "cell_type": "code",
   "execution_count": null,
   "id": "645647ba",
   "metadata": {},
   "outputs": [],
   "source": []
  },
  {
   "cell_type": "code",
   "execution_count": null,
   "id": "ebb171d4",
   "metadata": {},
   "outputs": [],
   "source": []
  }
 ],
 "metadata": {
  "kernelspec": {
   "display_name": "Python 3 (ipykernel)",
   "language": "python",
   "name": "python3"
  },
  "language_info": {
   "codemirror_mode": {
    "name": "ipython",
    "version": 3
   },
   "file_extension": ".py",
   "mimetype": "text/x-python",
   "name": "python",
   "nbconvert_exporter": "python",
   "pygments_lexer": "ipython3",
   "version": "3.12.3"
  }
 },
 "nbformat": 4,
 "nbformat_minor": 5
}
