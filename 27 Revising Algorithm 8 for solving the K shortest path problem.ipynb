{
 "cells": [
  {
   "cell_type": "code",
   "execution_count": 1,
   "id": "e919a87e",
   "metadata": {},
   "outputs": [],
   "source": [
    "\n",
    "# This file revises Algorithm 8 (warm-start calculation of all shortest paths)\n",
    "# for solving the K shortest path problem.\n",
    "# See https://en.wikipedia.org/wiki/K_shortest_path_routing\n",
    "\n",
    "# The k shortest path problem is a generalization of the shortest path problem. \n",
    "# It asks not only about a shortest path but also about next k−1 shortest paths\n",
    "# (which may be longer than the shortest path).\n"
   ]
  },
  {
   "cell_type": "code",
   "execution_count": 2,
   "id": "562c9604",
   "metadata": {},
   "outputs": [],
   "source": [
    "exec(open(\"./funcs/tool_funcs.py\").read())\n",
    "\n"
   ]
  },
  {
   "cell_type": "code",
   "execution_count": 3,
   "id": "1e12bdac",
   "metadata": {},
   "outputs": [],
   "source": [
    "def dijkstra_show_path(adj_matrix, start, end):\n",
    " \n",
    "    n = len(adj_matrix)\n",
    "    distances = [float('inf')] * n\n",
    "    previous_nodes = [-1] * n\n",
    "    distances[start] = 0\n",
    "    priority_queue = [(0, start)]  # (distance, node)\n",
    "\n",
    "    while priority_queue:\n",
    "        current_distance, current_node = heapq.heappop(priority_queue)\n",
    "\n",
    "        # Stop if we reached the destination node\n",
    "        if current_node == end:\n",
    "            break\n",
    "\n",
    "        # If the distance is no longer optimal, skip\n",
    "        if current_distance > distances[current_node]:\n",
    "            continue\n",
    "\n",
    "        # Explore neighbors\n",
    "        for neighbor, weight in enumerate(adj_matrix[current_node]):\n",
    "            if weight > 0:  # Only consider edges with weight > 0\n",
    "                distance = current_distance + weight\n",
    "\n",
    "                # Update distance if it's better\n",
    "                if distance < distances[neighbor]:\n",
    "                    distances[neighbor] = distance\n",
    "                    previous_nodes[neighbor] = current_node\n",
    "                    heapq.heappush(priority_queue, (distance, neighbor))\n",
    "\n",
    "    # Reconstruct the path from end to start\n",
    "    path = []\n",
    "    current = end\n",
    "    while current != -1:\n",
    "        path.append(current)\n",
    "        current = previous_nodes[current]\n",
    "    path.reverse()\n",
    "\n",
    "    # If the start node isn't reachable, return an empty path\n",
    "    return path if path[0] == start else []"
   ]
  },
  {
   "cell_type": "code",
   "execution_count": null,
   "id": "8c3c2a38",
   "metadata": {},
   "outputs": [],
   "source": []
  },
  {
   "cell_type": "code",
   "execution_count": 4,
   "id": "a96d92af",
   "metadata": {},
   "outputs": [],
   "source": [
    "def translate_path(path, candidate_node_list):\n",
    "    new_path = [candidate_node_list[i] for i in path]\n",
    "    return new_path\n",
    "\n",
    "\n"
   ]
  },
  {
   "cell_type": "code",
   "execution_count": null,
   "id": "ad6bbacb",
   "metadata": {},
   "outputs": [],
   "source": []
  },
  {
   "cell_type": "code",
   "execution_count": 5,
   "id": "ff1876be",
   "metadata": {},
   "outputs": [],
   "source": [
    "def output_small_matrix(X_distance_matrix, candidate_node_list):\n",
    "    small_matrix = np.zeros((len(candidate_node_list), len(candidate_node_list)))\n",
    "    for i, ii in enumerate(candidate_node_list):\n",
    "        for j, jj in enumerate(candidate_node_list):\n",
    "            small_matrix[i,j] = X_distance_matrix[ii, jj]\n",
    "    return small_matrix\n",
    "\n",
    "\n"
   ]
  },
  {
   "cell_type": "code",
   "execution_count": 6,
   "id": "4100db2f",
   "metadata": {},
   "outputs": [],
   "source": [
    "# APPD stands for all points path distance (APPD).\n",
    "\n",
    "def check_shortest_path(i,j, X_distance_matrix, APPD_matrix, path):\n",
    "    temp1= path[:-1]\n",
    "    temp2= path[1:]\n",
    "    llll = [X_distance_matrix[temp1[i],temp2[i]] for i in range(len(temp1))]\n",
    "    ooo = np.sum(llll)\n",
    "    return ooo == APPD_matrix[i,j]"
   ]
  },
  {
   "cell_type": "code",
   "execution_count": 7,
   "id": "75b32da0",
   "metadata": {},
   "outputs": [],
   "source": [
    "def compare_two_list(a, b):\n",
    "    return len(a)==len(b) and len(a)==sum([1 for i,j in zip(a,b) if i==j])\n",
    " \n",
    "\n",
    "def check_if_temp_path_already_in_not_using_set(candidate_paths_list, temp_path):\n",
    "#     aa = set(temp_path)\n",
    "#     for bb in candidate_paths_list:\n",
    "#         bb = set(bb)\n",
    "#         if aa == bb:\n",
    "#             return True\n",
    "    for bb in candidate_paths_list:\n",
    "        if compare_two_list(temp_path, bb):\n",
    "            return True\n",
    "    return False\n"
   ]
  },
  {
   "cell_type": "code",
   "execution_count": null,
   "id": "744b5e71",
   "metadata": {},
   "outputs": [],
   "source": [
    "\n"
   ]
  },
  {
   "cell_type": "code",
   "execution_count": null,
   "id": "54e16128",
   "metadata": {},
   "outputs": [],
   "source": []
  },
  {
   "cell_type": "code",
   "execution_count": 8,
   "id": "047b00b9",
   "metadata": {},
   "outputs": [],
   "source": [
    "def cal_path_length(X_distance_matrix, path):\n",
    "    temp1= path[:-1]\n",
    "    temp2= path[1:]\n",
    "    llll = [X_distance_matrix[temp1[i],temp2[i]] for i in range(len(temp1))]\n",
    "    ooo = np.sum(llll)\n",
    "    return ooo"
   ]
  },
  {
   "cell_type": "code",
   "execution_count": 9,
   "id": "93ce5c78",
   "metadata": {},
   "outputs": [],
   "source": [
    "def cal_candidate_node_list_slack(i, j, shortest_path_matrix, X_distance_matrix, threshold):\n",
    "    \n",
    "    N = len(X_distance_matrix)\n",
    "    \n",
    "    remaining_list = [k for k in np.arange(N) if k != i and k != j]\n",
    "    candidate_node_list = []\n",
    "    candidate_node_list.append(i)\n",
    "    for t in remaining_list:\n",
    "#         if shortest_path_matrix[i,j] == shortest_path_matrix[i,t] + shortest_path_matrix[t,j]:\n",
    "#             candidate_node_list.append(t)\n",
    "        if shortest_path_matrix[i,t] + shortest_path_matrix[t,j] <= threshold:\n",
    "            candidate_node_list.append(t)\n",
    "\n",
    "\n",
    "    candidate_node_list.append(j)\n",
    " \n",
    "    return candidate_node_list\n",
    "\n",
    "def dijkstra_cal_previous_nodes(adj_matrix, start):\n",
    " \n",
    "    n = len(adj_matrix)\n",
    "    distances = [float('inf')] * n\n",
    "    previous_nodes = [-1] * n\n",
    "    distances[start] = 0\n",
    "    priority_queue = [(0, start)]  \n",
    "\n",
    "    while priority_queue:\n",
    "        current_distance, current_node = heapq.heappop(priority_queue)\n",
    "\n",
    "        if current_distance > distances[current_node]:\n",
    "            continue\n",
    " \n",
    "        for neighbor, weight in enumerate(adj_matrix[current_node]):\n",
    "            if weight > 0:  \n",
    "                distance = current_distance + weight\n",
    " \n",
    "                if distance < distances[neighbor]:\n",
    "                    distances[neighbor] = distance\n",
    "                    previous_nodes[neighbor] = current_node\n",
    "                    heapq.heappush(priority_queue, (distance, neighbor))\n",
    " \n",
    "    return previous_nodes\n",
    "\n",
    "def dijkstra_show_path_from_previous_nodes(previous_nodes, start, end): \n",
    "    path = []\n",
    "    current = end\n",
    "    while current != -1:\n",
    "        path.append(current)\n",
    "        current = previous_nodes[current]\n",
    "    path.reverse()\n",
    "    return path if path[0] == start else []\n",
    "\n",
    "def cal_candidate_paths_of_K_shortest_path(i, j, shortest_path_matrix, X_distance_matrix, threshold):\n",
    "    candidate_node_list = cal_candidate_node_list_slack(i, j, shortest_path_matrix, X_distance_matrix, threshold)\n",
    " \n",
    "    small_matrix = output_small_matrix(X_distance_matrix, candidate_node_list)\n",
    "    path = dijkstra_show_path(small_matrix, 0, len(candidate_node_list) - 1)\n",
    "\n",
    "    candidate_paths_list = []\n",
    "    candidate_paths_list.append(path)\n",
    "\n",
    "    K = len(candidate_node_list)\n",
    "    # temp_list = [q for q in range(K) if q not in path]\n",
    "    \n",
    "    temp_list = [q for q in range(1, K - 1)]\n",
    " \n",
    "    previous_nodes = dijkstra_cal_previous_nodes(small_matrix, 0)\n",
    " \n",
    "    for m in temp_list:\n",
    "        temp_path1 = dijkstra_show_path_from_previous_nodes(previous_nodes, 0, m)\n",
    "        \n",
    "#         temp_path1 = dijkstra_show_path(small_matrix, 0, m)\n",
    "        temp_path2 = dijkstra_show_path(small_matrix, m, K - 1)\n",
    "        temp_path =  temp_path1[:-1] + temp_path2\n",
    "        if not check_if_temp_path_already_in_not_using_set(candidate_paths_list, temp_path):\n",
    "            candidate_paths_list.append(temp_path)\n",
    "\n",
    "    candidate_paths_list = [translate_path(ppp, candidate_node_list) for ppp in candidate_paths_list]    \n",
    "\n",
    "    return candidate_paths_list"
   ]
  },
  {
   "cell_type": "code",
   "execution_count": 10,
   "id": "24bd4100",
   "metadata": {},
   "outputs": [],
   "source": [
    "def already_in_temp_path_len_list(a, temp_path_len_list):\n",
    "    return np.any(np.isclose(a, temp_path_len_list))\n",
    "\n",
    "\n",
    "def cal_K_shortest_paths_warm(i, j, shortest_path_matrix, X_distance_matrix, K):\n",
    "    N = len(X_distance_matrix)\n",
    "    remaining_list = [k for k in np.arange(N) if k != i and k != j]\n",
    "    temp_path_len_list = []\n",
    "    temp_path_len_list.append(shortest_path_matrix[i,j])\n",
    "    for yyy in remaining_list:\n",
    "        ttt = shortest_path_matrix[i,yyy] + shortest_path_matrix[yyy,j]\n",
    "        if not already_in_temp_path_len_list(ttt, temp_path_len_list):\n",
    "            temp_path_len_list.append(ttt)  \n",
    "    temp_path_len_list = np.sort(temp_path_len_list)\n",
    " \n",
    "    if K <= len(temp_path_len_list):\n",
    "        threshold = temp_path_len_list[K - 1]\n",
    "    else:\n",
    "        threshold = temp_path_len_list[-1]\n",
    "\n",
    "    candidate_paths_list = cal_candidate_paths_of_K_shortest_path(i, j, shortest_path_matrix, X_distance_matrix, threshold)\n",
    "\n",
    "    candidate_path_len_list = []\n",
    " \n",
    "\n",
    "    for path_i in candidate_paths_list:\n",
    "        aaa = cal_path_length(X_distance_matrix, path_i)\n",
    "        candidate_path_len_list.append(aaa)\n",
    "        \n",
    "    K_shortest_path = []\n",
    "\n",
    "    for ii in np.argsort(candidate_path_len_list)[:K]:\n",
    "        K_shortest_path.append(candidate_paths_list[ii])\n",
    "        \n",
    "    return K_shortest_path\n"
   ]
  },
  {
   "cell_type": "code",
   "execution_count": 11,
   "id": "62edcc9a",
   "metadata": {},
   "outputs": [],
   "source": [
    "# Yen's algorithm implemented by deepseek\n",
    "\n",
    "def yen_algorithm_deepseek(adj_matrix, source, target, K):\n",
    "    def dijkstra_shortest_path(adj_matrix, source, target, excluded_edges=set()):\n",
    "        n = len(adj_matrix)\n",
    "        dist = [float('inf')] * n\n",
    "        dist[source] = 0\n",
    "        prev = [None] * n\n",
    "        heap = [(0, source)]\n",
    "\n",
    "        while heap:\n",
    "            current_dist, u = heapq.heappop(heap)\n",
    "\n",
    "            if u == target:\n",
    "                break\n",
    "\n",
    "            for v in range(n):\n",
    "                if adj_matrix[u][v] != 0 and (u, v) not in excluded_edges:\n",
    "                    alt = current_dist + adj_matrix[u][v]\n",
    "                    if alt < dist[v]:\n",
    "                        dist[v] = alt\n",
    "                        prev[v] = u\n",
    "                        heapq.heappush(heap, (alt, v))\n",
    "\n",
    "        path = []\n",
    "        u = target\n",
    "        while prev[u] is not None:\n",
    "            path.insert(0, u)\n",
    "            u = prev[u]\n",
    "        if path:\n",
    "            path.insert(0, source)\n",
    "        return path, dist[target]\n",
    "\n",
    "    def get_path_edges(path):\n",
    "        edges = set()\n",
    "        for i in range(len(path) - 1):\n",
    "            edges.add((path[i], path[i + 1]))\n",
    "        return edges\n",
    "\n",
    "    A = []\n",
    "    B = []\n",
    "\n",
    "    # Find the shortest path\n",
    "    path, length = dijkstra_shortest_path(adj_matrix, source, target)\n",
    "    if not path:\n",
    "        return A\n",
    "    A.append((path, length))\n",
    "\n",
    "    for k in range(1, K):\n",
    "        for i in range(len(A[-1][0]) - 1):\n",
    "            spur_node = A[-1][0][i]\n",
    "            root_path = A[-1][0][:i + 1]\n",
    "\n",
    "            excluded_edges = set()\n",
    "            for path, _ in A:\n",
    "                if len(path) > i and root_path == path[:i + 1]:\n",
    "                    excluded_edges.add((path[i], path[i + 1]))\n",
    "\n",
    "            spur_path, spur_length = dijkstra_shortest_path(adj_matrix, spur_node, target, excluded_edges)\n",
    "\n",
    "            if spur_path:\n",
    "                total_path = root_path[:-1] + spur_path\n",
    "                total_length = sum(adj_matrix[total_path[j]][total_path[j + 1]] for j in range(len(total_path) - 1))\n",
    "                B.append((total_path, total_length))\n",
    "\n",
    "        if not B:\n",
    "            break\n",
    "\n",
    "        B.sort(key=lambda x: x[1])\n",
    "        A.append(B.pop(0))\n",
    "\n",
    "    return [path for path, _ in A]"
   ]
  },
  {
   "cell_type": "code",
   "execution_count": 12,
   "id": "07dc6953",
   "metadata": {},
   "outputs": [],
   "source": [
    "import heapq\n",
    "import numpy as np\n",
    "from collections import defaultdict\n",
    "from copy import deepcopy\n",
    "\n",
    "def dijkstra(adj_matrix, source, target):\n",
    "    n = len(adj_matrix)\n",
    "    distances = {i: float('inf') for i in range(n)}\n",
    "    predecessors = {i: None for i in range(n)}\n",
    "    distances[source] = 0\n",
    "    pq = [(0, source)]\n",
    "    \n",
    "    while pq:\n",
    "        curr_distance, u = heapq.heappop(pq)\n",
    "        if curr_distance > distances[u]:\n",
    "            continue\n",
    "        if u == target:\n",
    "            break\n",
    "        for v in range(n):\n",
    "            if adj_matrix[u][v] > 0:  # There is an edge\n",
    "                new_distance = curr_distance + adj_matrix[u][v]\n",
    "                if new_distance < distances[v]:\n",
    "                    distances[v] = new_distance\n",
    "                    predecessors[v] = u\n",
    "                    heapq.heappush(pq, (new_distance, v))\n",
    "    \n",
    "    path = []\n",
    "    node = target\n",
    "    while node is not None:\n",
    "        path.insert(0, node)\n",
    "        node = predecessors[node]\n",
    "    \n",
    "    return path if path[0] == source else None\n",
    "\n",
    "# Yen's algorithm implemented by chatGPT\n",
    "def yen_k_shortest_paths_chatGPT(adj_matrix, source, target, K):\n",
    "    A = []  # List of shortest paths\n",
    "    B = []  # Candidate paths\n",
    "    \n",
    "    # First shortest path using Dijkstra\n",
    "    first_path = dijkstra(adj_matrix, source, target)\n",
    "    if first_path is None:\n",
    "        return A\n",
    "    A.append(first_path)\n",
    "    \n",
    "    for k in range(1, K):\n",
    "        for i in range(len(A[k - 1]) - 1):\n",
    "            spur_node = A[k - 1][i]\n",
    "            root_path = A[k - 1][:i + 1]\n",
    "            \n",
    "            modified_graph = deepcopy(adj_matrix)\n",
    "            \n",
    "            # Remove the root_path edges\n",
    "            for path in A:\n",
    "                if len(path) > i and path[:i + 1] == root_path:\n",
    "                    modified_graph[path[i]][path[i + 1]] = 0\n",
    "            \n",
    "            # Remove root path nodes except spur node\n",
    "            for node in root_path[:-1]:\n",
    "                for v in range(len(adj_matrix)):\n",
    "                    modified_graph[node][v] = 0\n",
    "                    modified_graph[v][node] = 0\n",
    "            \n",
    "            spur_path = dijkstra(modified_graph, spur_node, target)\n",
    "            if spur_path is not None:\n",
    "                total_path = root_path[:-1] + spur_path\n",
    "                if total_path not in B:\n",
    "                    heapq.heappush(B, (sum(adj_matrix[total_path[j]][total_path[j + 1]] for j in range(len(total_path) - 1)), total_path))\n",
    "        \n",
    "        if B:\n",
    "            A.append(heapq.heappop(B)[1])\n",
    "        else:\n",
    "            break\n",
    "    \n",
    "    return A\n",
    "\n",
    " \n",
    "\n"
   ]
  },
  {
   "cell_type": "code",
   "execution_count": 13,
   "id": "025ebebe",
   "metadata": {},
   "outputs": [],
   "source": [
    "# N = 1000\n",
    "\n",
    "# X_distance_matrix = create_distance_matrix(N)\n",
    "\n"
   ]
  },
  {
   "cell_type": "code",
   "execution_count": 14,
   "id": "e0485957",
   "metadata": {},
   "outputs": [],
   "source": [
    "# X_distance_matrix = [[ 0., 3, 2, np.inf, np.inf, np.inf],\n",
    "#        [np.inf,  0., np.inf, 4, np.inf, np.inf],\n",
    "#        [np.inf, 1,  0., 2, 3, np.inf],\n",
    "#        [np.inf, np.inf, np.inf,  0., 2, 1],\n",
    "#        [np.inf, np.inf, np.inf, np.inf,  0., 2],\n",
    "#        [np.inf, np.inf, np.inf, np.inf, np.inf,  0.]]\n",
    "\n",
    "# X_distance_matrix = np.array(X_distance_matrix).astype('float64')"
   ]
  },
  {
   "cell_type": "code",
   "execution_count": 15,
   "id": "ec3d0e3f",
   "metadata": {},
   "outputs": [],
   "source": [
    "\n",
    "X_distance_matrix = np.loadtxt(\"./data/X_100_distance_matrix.csv\", delimiter=\",\")\n"
   ]
  },
  {
   "cell_type": "code",
   "execution_count": 16,
   "id": "8e87922b",
   "metadata": {},
   "outputs": [
    {
     "name": "stdout",
     "output_type": "stream",
     "text": [
      "Shortest path: [0, 76, 13, 95, 17, 9, 50], shortest path length: 57.0\n"
     ]
    },
    {
     "data": {
      "text/plain": [
       "True"
      ]
     },
     "execution_count": 16,
     "metadata": {},
     "output_type": "execute_result"
    }
   ],
   "source": [
    "\n",
    "shortest_path_matrix = floyd_warshall(X_distance_matrix)\n",
    "\n",
    "\n",
    "\n",
    "\n",
    "i = 0\n",
    "j = 50\n",
    "\n",
    "\n",
    "K = 7\n",
    " \n",
    "shortest_path = dijkstra_show_path(X_distance_matrix, i, j)\n",
    "\n",
    "aaa = cal_path_length(X_distance_matrix, shortest_path)\n",
    "print(f\"Shortest path: {shortest_path}, shortest path length: {aaa}\")\n",
    "\n",
    "check_shortest_path(i,j, X_distance_matrix, shortest_path_matrix, shortest_path)\n"
   ]
  },
  {
   "cell_type": "code",
   "execution_count": null,
   "id": "4562ba73",
   "metadata": {},
   "outputs": [],
   "source": [
    "\n",
    "\n"
   ]
  },
  {
   "cell_type": "code",
   "execution_count": 17,
   "id": "3adf1c69",
   "metadata": {},
   "outputs": [
    {
     "data": {
      "text/plain": [
       "0.009"
      ]
     },
     "execution_count": 17,
     "metadata": {},
     "output_type": "execute_result"
    }
   ],
   "source": [
    "\n",
    " \n",
    "\n",
    "start = time.time()\n",
    "K_shortest_path_warm = cal_K_shortest_paths_warm(i, j, shortest_path_matrix, X_distance_matrix, K)\n",
    "end = time.time()\n",
    "\n",
    "\n",
    "time_used = end - start\n",
    "time_used = np.round(time_used, 3)\n",
    "time_used"
   ]
  },
  {
   "cell_type": "code",
   "execution_count": 18,
   "id": "962c4bf3",
   "metadata": {
    "scrolled": true
   },
   "outputs": [],
   "source": [
    "# def remove_duplicated_paths(K_shortest_path):\n",
    "#     K_shortest_path_new = []\n",
    " \n",
    "#     for temp_path in K_shortest_path:\n",
    " \n",
    "#         if not check_if_temp_path_already_in_not_using_set(K_shortest_path_new, temp_path):\n",
    "#             K_shortest_path_new.append(temp_path)\n",
    "#     return K_shortest_path_new\n",
    "\n"
   ]
  },
  {
   "cell_type": "code",
   "execution_count": 19,
   "id": "bff96758",
   "metadata": {},
   "outputs": [
    {
     "name": "stdout",
     "output_type": "stream",
     "text": [
      "path: [0, 76, 13, 95, 17, 9, 50], path length: 57.0\n",
      "path: [0, 76, 12, 85, 15, 50], path length: 69.0\n",
      "path: [0, 76, 88, 9, 50], path length: 75.0\n",
      "path: [0, 76, 13, 56, 88, 9, 50], path length: 78.0\n",
      "path: [0, 76, 12, 85, 3, 85, 15, 50], path length: 81.0\n",
      "path: [0, 76, 12, 38, 15, 50], path length: 82.0\n",
      "path: [0, 76, 28, 56, 88, 9, 50], path length: 83.0\n"
     ]
    }
   ],
   "source": [
    "\n",
    "for path_i in K_shortest_path_warm:\n",
    "    aaa = cal_path_length(X_distance_matrix, path_i)\n",
    "    print(f\"path: {path_i}, path length: {aaa}\")"
   ]
  },
  {
   "cell_type": "code",
   "execution_count": 20,
   "id": "802eee84",
   "metadata": {},
   "outputs": [
    {
     "data": {
      "text/plain": [
       "0.22"
      ]
     },
     "execution_count": 20,
     "metadata": {},
     "output_type": "execute_result"
    }
   ],
   "source": [
    "\n",
    "\n",
    "start = time.time()\n",
    "K_shortest_path_Yen = yen_algorithm_deepseek(X_distance_matrix, i, j, K)\n",
    "end = time.time()\n",
    "\n",
    "\n",
    "time_used = end - start\n",
    "time_used = np.round(time_used, 3)\n",
    "time_used\n",
    "\n"
   ]
  },
  {
   "cell_type": "code",
   "execution_count": null,
   "id": "76ba0fc4",
   "metadata": {},
   "outputs": [],
   "source": []
  },
  {
   "cell_type": "code",
   "execution_count": 21,
   "id": "528d866e",
   "metadata": {
    "scrolled": true
   },
   "outputs": [
    {
     "name": "stdout",
     "output_type": "stream",
     "text": [
      "path: [0, 76, 13, 95, 17, 9, 50], path length: 57.0\n",
      "path: [0, 76, 12, 85, 15, 50], path length: 69.0\n",
      "path: [0, 76, 88, 9, 50], path length: 75.0\n",
      "path: [0, 76, 13, 56, 88, 9, 50], path length: 78.0\n",
      "path: [0, 76, 12, 38, 15, 50], path length: 82.0\n",
      "path: [0, 76, 28, 56, 88, 9, 50], path length: 83.0\n",
      "path: [0, 76, 28, 56, 88, 9, 50], path length: 83.0\n"
     ]
    }
   ],
   "source": [
    "\n",
    "for path_i in K_shortest_path_Yen:\n",
    "    aaa = cal_path_length(X_distance_matrix, path_i)\n",
    "    print(f\"path: {path_i}, path length: {aaa}\")"
   ]
  },
  {
   "cell_type": "code",
   "execution_count": null,
   "id": "926ca8a4",
   "metadata": {},
   "outputs": [],
   "source": []
  },
  {
   "cell_type": "code",
   "execution_count": 22,
   "id": "6bca76db",
   "metadata": {},
   "outputs": [
    {
     "data": {
      "text/plain": [
       "0.17"
      ]
     },
     "execution_count": 22,
     "metadata": {},
     "output_type": "execute_result"
    }
   ],
   "source": [
    "\n",
    "start = time.time()\n",
    "K_shortest_path_Yen_gpt = yen_k_shortest_paths_chatGPT(X_distance_matrix, i, j, K)\n",
    "end = time.time()\n",
    "\n",
    "\n",
    "time_used = end - start\n",
    "time_used = np.round(time_used, 3)\n",
    "time_used"
   ]
  },
  {
   "cell_type": "code",
   "execution_count": 23,
   "id": "a4ab037e",
   "metadata": {
    "scrolled": false
   },
   "outputs": [
    {
     "name": "stdout",
     "output_type": "stream",
     "text": [
      "path: [0, 76, 13, 95, 17, 9, 50], path length: 57.0\n",
      "path: [0, 76, 12, 85, 15, 50], path length: 69.0\n",
      "path: [0, 76, 88, 9, 50], path length: 75.0\n",
      "path: [0, 76, 13, 56, 88, 9, 50], path length: 78.0\n",
      "path: [0, 76, 12, 38, 15, 50], path length: 82.0\n",
      "path: [0, 76, 13, 55, 88, 9, 50], path length: 83.0\n",
      "path: [0, 76, 28, 56, 88, 9, 50], path length: 83.0\n"
     ]
    }
   ],
   "source": [
    "\n",
    "for path_i in K_shortest_path_Yen_gpt:\n",
    "    aaa = cal_path_length(X_distance_matrix, path_i)\n",
    "    print(f\"path: {path_i}, path length: {aaa}\")"
   ]
  },
  {
   "cell_type": "code",
   "execution_count": 24,
   "id": "a6aed481",
   "metadata": {},
   "outputs": [],
   "source": [
    "\n",
    "# The results are not consistent, \n",
    "# which means the correctness of the calculated K shortest paths is not guaranteed. \n",
    "\n"
   ]
  }
 ],
 "metadata": {
  "kernelspec": {
   "display_name": "Python 3 (ipykernel)",
   "language": "python",
   "name": "python3"
  },
  "language_info": {
   "codemirror_mode": {
    "name": "ipython",
    "version": 3
   },
   "file_extension": ".py",
   "mimetype": "text/x-python",
   "name": "python",
   "nbconvert_exporter": "python",
   "pygments_lexer": "ipython3",
   "version": "3.12.3"
  }
 },
 "nbformat": 4,
 "nbformat_minor": 5
}
