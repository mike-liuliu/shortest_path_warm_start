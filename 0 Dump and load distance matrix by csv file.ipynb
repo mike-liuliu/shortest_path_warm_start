{
 "cells": [
  {
   "cell_type": "code",
   "execution_count": null,
   "id": "0ca21a25",
   "metadata": {},
   "outputs": [],
   "source": []
  },
  {
   "cell_type": "code",
   "execution_count": 1,
   "id": "23700345",
   "metadata": {},
   "outputs": [],
   "source": [
    "exec(open(\"./funcs/tool_funcs.py\").read())\n"
   ]
  },
  {
   "cell_type": "code",
   "execution_count": null,
   "id": "568ad8e2",
   "metadata": {},
   "outputs": [],
   "source": []
  },
  {
   "cell_type": "code",
   "execution_count": 2,
   "id": "01dfcd70",
   "metadata": {},
   "outputs": [],
   "source": [
    "# random.seed(200)\n",
    "# np.random.seed(200)"
   ]
  },
  {
   "cell_type": "code",
   "execution_count": 3,
   "id": "79159765",
   "metadata": {},
   "outputs": [],
   "source": [
    "N = 100\n",
    "\n",
    "\n",
    "X_distance_matrix = create_distance_matrix(N)"
   ]
  },
  {
   "cell_type": "code",
   "execution_count": null,
   "id": "76a873ba",
   "metadata": {},
   "outputs": [],
   "source": []
  },
  {
   "cell_type": "code",
   "execution_count": 4,
   "id": "f8f391f4",
   "metadata": {},
   "outputs": [],
   "source": [
    " \n",
    " \n",
    "np.savetxt(\"./data/X_distance_matrix.csv\", X_distance_matrix, delimiter=\",\", fmt=\"%f\") \n"
   ]
  },
  {
   "cell_type": "code",
   "execution_count": 5,
   "id": "78bb620d",
   "metadata": {},
   "outputs": [
    {
     "data": {
      "text/plain": [
       "array([494.,   0., 358., 491., 842., 116., 593., 525., 960.,  15.])"
      ]
     },
     "execution_count": 5,
     "metadata": {},
     "output_type": "execute_result"
    }
   ],
   "source": [
    "X_distance_matrix[1,:10]"
   ]
  },
  {
   "cell_type": "code",
   "execution_count": 6,
   "id": "34bd9d43",
   "metadata": {},
   "outputs": [],
   "source": [
    "\n",
    "X_distance_matrix1 = np.loadtxt(\"./data/X_distance_matrix.csv\", delimiter=\",\")\n",
    " \n"
   ]
  },
  {
   "cell_type": "code",
   "execution_count": 7,
   "id": "c5319506",
   "metadata": {
    "scrolled": true
   },
   "outputs": [
    {
     "data": {
      "text/plain": [
       "array([494.,   0., 358., 491., 842., 116., 593., 525., 960.,  15.])"
      ]
     },
     "execution_count": 7,
     "metadata": {},
     "output_type": "execute_result"
    }
   ],
   "source": [
    "X_distance_matrix[1,:10]"
   ]
  },
  {
   "cell_type": "code",
   "execution_count": 8,
   "id": "476906a2",
   "metadata": {},
   "outputs": [
    {
     "data": {
      "text/plain": [
       "array([494.,   0., 358., 491., 842., 116., 593., 525., 960.,  15.])"
      ]
     },
     "execution_count": 8,
     "metadata": {},
     "output_type": "execute_result"
    }
   ],
   "source": [
    "X_distance_matrix1[1,:10]"
   ]
  },
  {
   "cell_type": "code",
   "execution_count": 9,
   "id": "ae6de644",
   "metadata": {},
   "outputs": [
    {
     "data": {
      "text/plain": [
       "(100, 100)"
      ]
     },
     "execution_count": 9,
     "metadata": {},
     "output_type": "execute_result"
    }
   ],
   "source": [
    "X_distance_matrix1.shape"
   ]
  },
  {
   "cell_type": "code",
   "execution_count": 10,
   "id": "7d469f9b",
   "metadata": {},
   "outputs": [
    {
     "data": {
      "text/plain": [
       "array([[  0., 123.,  73., ..., 831., 869., 702.],\n",
       "       [494.,   0., 358., ..., 234., 571.,  30.],\n",
       "       [126.,  43.,   0., ...,  56.,  59., 383.],\n",
       "       ...,\n",
       "       [235., 347., 113., ...,   0., 507., 350.],\n",
       "       [652., 417., 377., ..., 811.,   0., 232.],\n",
       "       [179., 884., 615., ..., 745., 304.,   0.]])"
      ]
     },
     "execution_count": 10,
     "metadata": {},
     "output_type": "execute_result"
    }
   ],
   "source": [
    "X_distance_matrix1"
   ]
  },
  {
   "cell_type": "code",
   "execution_count": null,
   "id": "4eaa9c62",
   "metadata": {},
   "outputs": [],
   "source": []
  }
 ],
 "metadata": {
  "kernelspec": {
   "display_name": "Python 3 (ipykernel)",
   "language": "python",
   "name": "python3"
  },
  "language_info": {
   "codemirror_mode": {
    "name": "ipython",
    "version": 3
   },
   "file_extension": ".py",
   "mimetype": "text/x-python",
   "name": "python",
   "nbconvert_exporter": "python",
   "pygments_lexer": "ipython3",
   "version": "3.12.3"
  }
 },
 "nbformat": 4,
 "nbformat_minor": 5
}
